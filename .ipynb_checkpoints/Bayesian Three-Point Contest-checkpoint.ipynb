{
 "cells": [
  {
   "cell_type": "markdown",
   "metadata": {},
   "source": [
    "## Bayesian Three-Point Contest\n",
    "\n",
    "\n",
    "This notebook explores a problem presented in STAT 415 which goes as follows:\n",
    "\n",
    "\"We have seen how to estimate a process probability $\\theta$ in a Binomial situation, but what if the number of trials is also random? For example, suppose we want to estimate both the average number of three point shots Steph Curry attempts per game ($\\lambda$) and the probability of success on a single attempt ($\\theta$).\" \n",
    "\n",
    "To answer this question, this notebook will utilize Bayesian statistical techniques and the Symbulate python package. Documentation on the package is available here: https://dlsun.github.io/symbulate/index.html"
   ]
  },
  {
   "cell_type": "code",
   "execution_count": 2,
   "metadata": {},
   "outputs": [
    {
     "data": {
      "text/html": [
       "<div>\n",
       "<style scoped>\n",
       "    .dataframe tbody tr th:only-of-type {\n",
       "        vertical-align: middle;\n",
       "    }\n",
       "\n",
       "    .dataframe tbody tr th {\n",
       "        vertical-align: top;\n",
       "    }\n",
       "\n",
       "    .dataframe thead th {\n",
       "        text-align: right;\n",
       "    }\n",
       "</style>\n",
       "<table border=\"1\" class=\"dataframe\">\n",
       "  <thead>\n",
       "    <tr style=\"text-align: right;\">\n",
       "      <th></th>\n",
       "      <th>Rk</th>\n",
       "      <th>G</th>\n",
       "      <th>Date</th>\n",
       "      <th>Age</th>\n",
       "      <th>Tm</th>\n",
       "      <th>Unnamed: 5</th>\n",
       "      <th>Opp</th>\n",
       "      <th>Unnamed: 7</th>\n",
       "      <th>GS</th>\n",
       "      <th>MP</th>\n",
       "      <th>...</th>\n",
       "      <th>DRB</th>\n",
       "      <th>TRB</th>\n",
       "      <th>AST</th>\n",
       "      <th>STL</th>\n",
       "      <th>BLK</th>\n",
       "      <th>TOV</th>\n",
       "      <th>PF</th>\n",
       "      <th>PTS</th>\n",
       "      <th>GmSc</th>\n",
       "      <th>+/-</th>\n",
       "    </tr>\n",
       "  </thead>\n",
       "  <tbody>\n",
       "    <tr>\n",
       "      <th>0</th>\n",
       "      <td>1</td>\n",
       "      <td>1.0</td>\n",
       "      <td>10/16/2018</td>\n",
       "      <td>30-216</td>\n",
       "      <td>GSW</td>\n",
       "      <td>NaN</td>\n",
       "      <td>OKC</td>\n",
       "      <td>W (+8)</td>\n",
       "      <td>1</td>\n",
       "      <td>36:37:00</td>\n",
       "      <td>...</td>\n",
       "      <td>8.0</td>\n",
       "      <td>8.0</td>\n",
       "      <td>9.0</td>\n",
       "      <td>1.0</td>\n",
       "      <td>0.0</td>\n",
       "      <td>3.0</td>\n",
       "      <td>4.0</td>\n",
       "      <td>32.0</td>\n",
       "      <td>27.5</td>\n",
       "      <td>15.0</td>\n",
       "    </tr>\n",
       "    <tr>\n",
       "      <th>1</th>\n",
       "      <td>2</td>\n",
       "      <td>2.0</td>\n",
       "      <td>10/19/2018</td>\n",
       "      <td>30-219</td>\n",
       "      <td>GSW</td>\n",
       "      <td>@</td>\n",
       "      <td>UTA</td>\n",
       "      <td>W (+1)</td>\n",
       "      <td>1</td>\n",
       "      <td>37:07:00</td>\n",
       "      <td>...</td>\n",
       "      <td>3.0</td>\n",
       "      <td>4.0</td>\n",
       "      <td>8.0</td>\n",
       "      <td>2.0</td>\n",
       "      <td>0.0</td>\n",
       "      <td>4.0</td>\n",
       "      <td>2.0</td>\n",
       "      <td>31.0</td>\n",
       "      <td>23.4</td>\n",
       "      <td>-3.0</td>\n",
       "    </tr>\n",
       "    <tr>\n",
       "      <th>2</th>\n",
       "      <td>3</td>\n",
       "      <td>3.0</td>\n",
       "      <td>10/21/2018</td>\n",
       "      <td>30-221</td>\n",
       "      <td>GSW</td>\n",
       "      <td>@</td>\n",
       "      <td>DEN</td>\n",
       "      <td>L (-2)</td>\n",
       "      <td>1</td>\n",
       "      <td>39:13:00</td>\n",
       "      <td>...</td>\n",
       "      <td>4.0</td>\n",
       "      <td>4.0</td>\n",
       "      <td>6.0</td>\n",
       "      <td>0.0</td>\n",
       "      <td>0.0</td>\n",
       "      <td>2.0</td>\n",
       "      <td>4.0</td>\n",
       "      <td>30.0</td>\n",
       "      <td>19.7</td>\n",
       "      <td>3.0</td>\n",
       "    </tr>\n",
       "    <tr>\n",
       "      <th>3</th>\n",
       "      <td>4</td>\n",
       "      <td>4.0</td>\n",
       "      <td>10/22/2018</td>\n",
       "      <td>30-222</td>\n",
       "      <td>GSW</td>\n",
       "      <td>NaN</td>\n",
       "      <td>PHO</td>\n",
       "      <td>W (+20)</td>\n",
       "      <td>1</td>\n",
       "      <td>29:40:00</td>\n",
       "      <td>...</td>\n",
       "      <td>4.0</td>\n",
       "      <td>4.0</td>\n",
       "      <td>8.0</td>\n",
       "      <td>2.0</td>\n",
       "      <td>0.0</td>\n",
       "      <td>3.0</td>\n",
       "      <td>0.0</td>\n",
       "      <td>29.0</td>\n",
       "      <td>26.2</td>\n",
       "      <td>18.0</td>\n",
       "    </tr>\n",
       "    <tr>\n",
       "      <th>4</th>\n",
       "      <td>5</td>\n",
       "      <td>5.0</td>\n",
       "      <td>10/24/2018</td>\n",
       "      <td>30-224</td>\n",
       "      <td>GSW</td>\n",
       "      <td>NaN</td>\n",
       "      <td>WAS</td>\n",
       "      <td>W (+22)</td>\n",
       "      <td>1</td>\n",
       "      <td>31:35:00</td>\n",
       "      <td>...</td>\n",
       "      <td>4.0</td>\n",
       "      <td>4.0</td>\n",
       "      <td>3.0</td>\n",
       "      <td>0.0</td>\n",
       "      <td>1.0</td>\n",
       "      <td>2.0</td>\n",
       "      <td>1.0</td>\n",
       "      <td>51.0</td>\n",
       "      <td>41.8</td>\n",
       "      <td>19.0</td>\n",
       "    </tr>\n",
       "  </tbody>\n",
       "</table>\n",
       "<p>5 rows × 30 columns</p>\n",
       "</div>"
      ],
      "text/plain": [
       "   Rk    G        Date     Age   Tm Unnamed: 5  Opp Unnamed: 7 GS        MP  \\\n",
       "0   1  1.0  10/16/2018  30-216  GSW        NaN  OKC     W (+8)  1  36:37:00   \n",
       "1   2  2.0  10/19/2018  30-219  GSW          @  UTA     W (+1)  1  37:07:00   \n",
       "2   3  3.0  10/21/2018  30-221  GSW          @  DEN     L (-2)  1  39:13:00   \n",
       "3   4  4.0  10/22/2018  30-222  GSW        NaN  PHO    W (+20)  1  29:40:00   \n",
       "4   5  5.0  10/24/2018  30-224  GSW        NaN  WAS    W (+22)  1  31:35:00   \n",
       "\n",
       "   ...   DRB  TRB  AST  STL  BLK  TOV   PF   PTS  GmSc   +/-  \n",
       "0  ...   8.0  8.0  9.0  1.0  0.0  3.0  4.0  32.0  27.5  15.0  \n",
       "1  ...   3.0  4.0  8.0  2.0  0.0  4.0  2.0  31.0  23.4  -3.0  \n",
       "2  ...   4.0  4.0  6.0  0.0  0.0  2.0  4.0  30.0  19.7   3.0  \n",
       "3  ...   4.0  4.0  8.0  2.0  0.0  3.0  0.0  29.0  26.2  18.0  \n",
       "4  ...   4.0  4.0  3.0  0.0  1.0  2.0  1.0  51.0  41.8  19.0  \n",
       "\n",
       "[5 rows x 30 columns]"
      ]
     },
     "execution_count": 2,
     "metadata": {},
     "output_type": "execute_result"
    }
   ],
   "source": [
    "import pandas as pd\n",
    "import numpy as np\n",
    "import matplotlib.pyplot as plt\n",
    "curry = pd.read_csv(\"D:\\Matthew\\Documents\\Cal Poly\\Senior Project\\curry.csv\", sep = ',')\n",
    "curry.head()"
   ]
  },
  {
   "cell_type": "markdown",
   "metadata": {},
   "source": [
    "To most accurately answer the question, we will treat the time Steph plays in a game as a random variable, based on the recorded minutes he played in the first 51 games of the current 2018 - 2019 season. We'll also do this for the number of three-point shots he attempts, and finally for the number of three-point shots he scores."
   ]
  },
  {
   "cell_type": "code",
   "execution_count": 3,
   "metadata": {},
   "outputs": [
    {
     "name": "stderr",
     "output_type": "stream",
     "text": [
      "C:\\Users\\Matthew\\Anaconda3\\lib\\site-packages\\ipykernel_launcher.py:21: SettingWithCopyWarning: \n",
      "A value is trying to be set on a copy of a slice from a DataFrame\n",
      "\n",
      "See the caveats in the documentation: http://pandas.pydata.org/pandas-docs/stable/indexing.html#indexing-view-versus-copy\n"
     ]
    },
    {
     "data": {
      "text/html": [
       "<div>\n",
       "<style scoped>\n",
       "    .dataframe tbody tr th:only-of-type {\n",
       "        vertical-align: middle;\n",
       "    }\n",
       "\n",
       "    .dataframe tbody tr th {\n",
       "        vertical-align: top;\n",
       "    }\n",
       "\n",
       "    .dataframe thead th {\n",
       "        text-align: right;\n",
       "    }\n",
       "</style>\n",
       "<table border=\"1\" class=\"dataframe\">\n",
       "  <thead>\n",
       "    <tr style=\"text-align: right;\">\n",
       "      <th></th>\n",
       "      <th>game_number</th>\n",
       "      <th>date</th>\n",
       "      <th>opponent</th>\n",
       "      <th>game_conclusion</th>\n",
       "      <th>curry_in_game</th>\n",
       "      <th>minutes_played</th>\n",
       "      <th>ThreePointMade</th>\n",
       "      <th>ThreePointAttempted</th>\n",
       "      <th>ThreePointPercent</th>\n",
       "    </tr>\n",
       "    <tr>\n",
       "      <th>game_played</th>\n",
       "      <th></th>\n",
       "      <th></th>\n",
       "      <th></th>\n",
       "      <th></th>\n",
       "      <th></th>\n",
       "      <th></th>\n",
       "      <th></th>\n",
       "      <th></th>\n",
       "      <th></th>\n",
       "    </tr>\n",
       "  </thead>\n",
       "  <tbody>\n",
       "    <tr>\n",
       "      <th>1</th>\n",
       "      <td>1</td>\n",
       "      <td>10/16/2018</td>\n",
       "      <td>OKC</td>\n",
       "      <td>W (+8)</td>\n",
       "      <td>1</td>\n",
       "      <td>37</td>\n",
       "      <td>5.0</td>\n",
       "      <td>9.0</td>\n",
       "      <td>0.556</td>\n",
       "    </tr>\n",
       "    <tr>\n",
       "      <th>2</th>\n",
       "      <td>2</td>\n",
       "      <td>10/19/2018</td>\n",
       "      <td>UTA</td>\n",
       "      <td>W (+1)</td>\n",
       "      <td>1</td>\n",
       "      <td>38</td>\n",
       "      <td>5.0</td>\n",
       "      <td>9.0</td>\n",
       "      <td>0.556</td>\n",
       "    </tr>\n",
       "    <tr>\n",
       "      <th>3</th>\n",
       "      <td>3</td>\n",
       "      <td>10/21/2018</td>\n",
       "      <td>DEN</td>\n",
       "      <td>L (-2)</td>\n",
       "      <td>1</td>\n",
       "      <td>40</td>\n",
       "      <td>6.0</td>\n",
       "      <td>16.0</td>\n",
       "      <td>0.375</td>\n",
       "    </tr>\n",
       "    <tr>\n",
       "      <th>4</th>\n",
       "      <td>4</td>\n",
       "      <td>10/22/2018</td>\n",
       "      <td>PHO</td>\n",
       "      <td>W (+20)</td>\n",
       "      <td>1</td>\n",
       "      <td>30</td>\n",
       "      <td>6.0</td>\n",
       "      <td>13.0</td>\n",
       "      <td>0.462</td>\n",
       "    </tr>\n",
       "    <tr>\n",
       "      <th>5</th>\n",
       "      <td>5</td>\n",
       "      <td>10/24/2018</td>\n",
       "      <td>WAS</td>\n",
       "      <td>W (+22)</td>\n",
       "      <td>1</td>\n",
       "      <td>32</td>\n",
       "      <td>11.0</td>\n",
       "      <td>16.0</td>\n",
       "      <td>0.688</td>\n",
       "    </tr>\n",
       "  </tbody>\n",
       "</table>\n",
       "</div>"
      ],
      "text/plain": [
       "             game_number        date opponent game_conclusion curry_in_game  \\\n",
       "game_played                                                                   \n",
       "1                      1  10/16/2018      OKC          W (+8)             1   \n",
       "2                      2  10/19/2018      UTA          W (+1)             1   \n",
       "3                      3  10/21/2018      DEN          L (-2)             1   \n",
       "4                      4  10/22/2018      PHO         W (+20)             1   \n",
       "5                      5  10/24/2018      WAS         W (+22)             1   \n",
       "\n",
       "             minutes_played  ThreePointMade  ThreePointAttempted  \\\n",
       "game_played                                                        \n",
       "1                        37             5.0                  9.0   \n",
       "2                        38             5.0                  9.0   \n",
       "3                        40             6.0                 16.0   \n",
       "4                        30             6.0                 13.0   \n",
       "5                        32            11.0                 16.0   \n",
       "\n",
       "             ThreePointPercent  \n",
       "game_played                     \n",
       "1                        0.556  \n",
       "2                        0.556  \n",
       "3                        0.375  \n",
       "4                        0.462  \n",
       "5                        0.688  "
      ]
     },
     "execution_count": 3,
     "metadata": {},
     "output_type": "execute_result"
    }
   ],
   "source": [
    "# create a subset of the data with variables of interest for first question\n",
    "three_p_subset = curry[['Rk','G','Date','Opp','Unnamed: 7','GS','MP','3P','3PA','3P%']]\n",
    "\n",
    "# rename some variables to more logical names\n",
    "three_p_subset.columns = ['game_number', 'game_played', 'date', 'opponent', 'game_conclusion', 'curry_in_game',\n",
    "                         'minutes_played', 'ThreePointMade', 'ThreePointAttempted','ThreePointPercent']\n",
    "\n",
    "\n",
    "# remove games where Curry was inactive\n",
    "three_p_subset = three_p_subset[three_p_subset.curry_in_game != 'Inactive']\n",
    "# change game played from float to integer\n",
    "three_p_subset.game_played = three_p_subset.game_played.astype('int')\n",
    "# use game played as the index variable\n",
    "three_p_subset = three_p_subset.set_index('game_played')\n",
    "\n",
    "# convert minutes_played into an integer measure of play time \n",
    "counter = 1\n",
    "for time in three_p_subset.minutes_played:\n",
    "    time = str(time).split(':')\n",
    "    # add one to each number of minutes per game to 'round up' for seconds over the recorded minute\n",
    "    three_p_subset.minutes_played[counter] = int(time[0]) + 1\n",
    "    counter += 1\n",
    "\n",
    "# change variable types to integers and strings\n",
    "\n",
    "three_p_subset.minutes_played = three_p_subset.minutes_played.astype(int)\n",
    "three_p_subset.head()"
   ]
  },
  {
   "cell_type": "code",
   "execution_count": 4,
   "metadata": {},
   "outputs": [
    {
     "data": {
      "image/png": "[encoded data removed]",
      "text/plain": [
       "<Figure size 432x288 with 1 Axes>"
      ]
     },
     "metadata": {
      "needs_background": "light"
     },
     "output_type": "display_data"
    }
   ],
   "source": [
    "# plot a histogram of minutes played\n",
    "three_p_subset.minutes_played.hist(ec = 'black');\n"
   ]
  },
  {
   "cell_type": "markdown",
   "metadata": {},
   "source": [
    "For simplicity's sake, assume a Uniform prior distribution for the number of seconds Steph Curry will play in a game. We'll then model the number of 3-point shots Steph Curry takes with a Poisson distribution based on the posterior number of seconds he is expected to play. Finally, we'll model the number of shots he is expected to make with a Binomial distribution, based on the posterior number of shots he is expected to take and the collected data on shot success rate."
   ]
  },
  {
   "cell_type": "code",
   "execution_count": 5,
   "metadata": {},
   "outputs": [
    {
     "data": {
      "image/png": "[encoded data removed]",
      "text/plain": [
       "<Figure size 432x288 with 1 Axes>"
      ]
     },
     "metadata": {
      "needs_background": "light"
     },
     "output_type": "display_data"
    }
   ],
   "source": [
    "# import the symbulate package\n",
    "from symbulate import *\n",
    "%matplotlib inline\n",
    "\n",
    "# simulate prior for seconds played\n",
    "seconds_sim = RV(DiscreteUniform(a=0, b=2880)).sim(10000)\n",
    "seconds_sim.plot()\n",
    "DiscreteUniform(a=0, b=2880).plot()"
   ]
  },
  {
   "cell_type": "code",
   "execution_count": 6,
   "metadata": {},
   "outputs": [
    {
     "data": {
      "text/plain": [
       "<matplotlib.axes._subplots.AxesSubplot at 0x140a8010160>"
      ]
     },
     "execution_count": 6,
     "metadata": {},
     "output_type": "execute_result"
    },
    {
     "data": {
      "image/png": "[encoded data removed]",
      "text/plain": [
       "<Figure size 432x288 with 1 Axes>"
      ]
     },
     "metadata": {
      "needs_background": "light"
     },
     "output_type": "display_data"
    }
   ],
   "source": [
    "# histogram of three point attempts\n",
    "three_p_subset.ThreePointAttempted.hist(ec = 'black')\n"
   ]
  },
  {
   "cell_type": "code",
   "execution_count": 8,
   "metadata": {},
   "outputs": [
    {
     "data": {
      "image/png": "[encoded data removed]",
      "text/plain": [
       "<Figure size 432x288 with 1 Axes>"
      ]
     },
     "metadata": {
      "needs_background": "light"
     },
     "output_type": "display_data"
    }
   ],
   "source": [
    "def binomial_for_shots():\n",
    "    # since we know Steph is fairly consistent in his three-point shooting, we'll use a Beta prior distribution centered \n",
    "    # at .5 with somewhat small variance.\n",
    "    p = Beta(a=6, b=6).draw()\n",
    "    # we'll also need a prior distribution for the number of minutes Steph will play in a game. Steph is a starter for the \n",
    "    # Warriors and tends to play for most of the game, and each game is 48 minutes long without overtime. It is unlikely for a\n",
    "    # player to play the whole game, but also unlikely that Steph will play less than half the game. To make a prior for \n",
    "    # minutes played, we'll use a Gamma distribution centered at 36 (three-quarters of a regulation NBA game), with moderate \n",
    "    # variance.\n",
    "    m = round(Gamma(shape=36, rate=1).draw())\n",
    "    # the number of shots curry attempts, and therefore how many he makes in a game, depends both on the probability that the\n",
    "    # shot lands and the number of minutes he plays in the game. We will approximate the number of shots Steph will attempt\n",
    "    # using a Poisson distribution, thinking of the number of shots he will take per minute (as a rate).\n",
    "    # We'll approximate this rate using the prior information.\n",
    "    \n",
    "    Sa = Poisson(m/3).draw()\n",
    "    x = Binomial(Sa, p).draw()\n",
    "    return x\n",
    "\n",
    "X = RV(ProbabilitySpace(binomial_for_shots))\n",
    "X.sim(10000).plot(jitter=True, alpha=1) "
   ]
  },
  {
   "cell_type": "code",
   "execution_count": 9,
   "metadata": {},
   "outputs": [
    {
     "data": {
      "text/plain": [
       "5.2439024390243905"
      ]
     },
     "execution_count": 9,
     "metadata": {},
     "output_type": "execute_result"
    }
   ],
   "source": [
    "three_p_subset.ThreePointMade.mean()"
   ]
  },
  {
   "cell_type": "code",
   "execution_count": null,
   "metadata": {},
   "outputs": [],
   "source": []
  },
  {
   "cell_type": "code",
   "execution_count": null,
   "metadata": {},
   "outputs": [],
   "source": []
  }
 ],
 "metadata": {
  "kernelspec": {
   "display_name": "Python 3",
   "language": "python",
   "name": "python3"
  },
  "language_info": {
   "codemirror_mode": {
    "name": "ipython",
    "version": 3
   },
   "file_extension": ".py",
   "mimetype": "text/x-python",
   "name": "python",
   "nbconvert_exporter": "python",
   "pygments_lexer": "ipython3",
   "version": "3.7.1"
  }
 },
 "nbformat": 4,
 "nbformat_minor": 2
}
