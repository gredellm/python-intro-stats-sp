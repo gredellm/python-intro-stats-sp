{
 "cells": [
  {
   "cell_type": "markdown",
   "metadata": {},
   "source": [
    "##### This notebook covers Investigations 5.10 from the Chapter 5 Section 4: Inference For Regression in ISCAM III"
   ]
  },
  {
   "cell_type": "markdown",
   "metadata": {},
   "source": [
    "### Investigation 5.10: Running Out Of Time\n",
    "\n",
    "Many communities offer racing events for amateur runners, such as 5K (approximately 3.1 miles) races.\n",
    "At the end of the event, awards are often given out to runners with the fastest times, often to the top three\n",
    "finishers in different age groups. But does running time really change with age for amateur runners? To\n",
    "investigate this, one of the authors downloaded the race results for a local 5K race in May 2013\n",
    "(Talley5K2013.txt). Data for 248 runners included age (in years) and finish time (in minutes)."
   ]
  },
  {
   "cell_type": "code",
   "execution_count": 16,
   "metadata": {},
   "outputs": [
    {
     "data": {
      "text/html": [
       "<div>\n",
       "<style scoped>\n",
       "    .dataframe tbody tr th:only-of-type {\n",
       "        vertical-align: middle;\n",
       "    }\n",
       "\n",
       "    .dataframe tbody tr th {\n",
       "        vertical-align: top;\n",
       "    }\n",
       "\n",
       "    .dataframe thead th {\n",
       "        text-align: right;\n",
       "    }\n",
       "</style>\n",
       "<table border=\"1\" class=\"dataframe\">\n",
       "  <thead>\n",
       "    <tr style=\"text-align: right;\">\n",
       "      <th></th>\n",
       "      <th>BIB</th>\n",
       "      <th>Name</th>\n",
       "      <th>Hometown</th>\n",
       "      <th>Gender</th>\n",
       "      <th>AgeRank</th>\n",
       "      <th>GenderRank</th>\n",
       "      <th>OverallRank</th>\n",
       "      <th>Time</th>\n",
       "      <th>Age</th>\n",
       "    </tr>\n",
       "  </thead>\n",
       "  <tbody>\n",
       "    <tr>\n",
       "      <th>0</th>\n",
       "      <td>1538</td>\n",
       "      <td>Ricketts, Christian</td>\n",
       "      <td>Grover Beach, Ca</td>\n",
       "      <td>M</td>\n",
       "      <td>1</td>\n",
       "      <td>1</td>\n",
       "      <td>1</td>\n",
       "      <td>16.18</td>\n",
       "      <td>13</td>\n",
       "    </tr>\n",
       "    <tr>\n",
       "      <th>1</th>\n",
       "      <td>1581</td>\n",
       "      <td>Mccarty, Travis</td>\n",
       "      <td>Arroyo Grande, Ca</td>\n",
       "      <td>M</td>\n",
       "      <td>1</td>\n",
       "      <td>2</td>\n",
       "      <td>2</td>\n",
       "      <td>17.15</td>\n",
       "      <td>34</td>\n",
       "    </tr>\n",
       "    <tr>\n",
       "      <th>2</th>\n",
       "      <td>1679</td>\n",
       "      <td>Bounds, Julia</td>\n",
       "      <td>Redwood City, Ca</td>\n",
       "      <td>F</td>\n",
       "      <td>1</td>\n",
       "      <td>1</td>\n",
       "      <td>3</td>\n",
       "      <td>18.80</td>\n",
       "      <td>14</td>\n",
       "    </tr>\n",
       "    <tr>\n",
       "      <th>3</th>\n",
       "      <td>91506</td>\n",
       "      <td>Krichevsky, Daniel</td>\n",
       "      <td>San Luis Obispo, Ca</td>\n",
       "      <td>M</td>\n",
       "      <td>1</td>\n",
       "      <td>3</td>\n",
       "      <td>4</td>\n",
       "      <td>19.02</td>\n",
       "      <td>27</td>\n",
       "    </tr>\n",
       "    <tr>\n",
       "      <th>4</th>\n",
       "      <td>1591</td>\n",
       "      <td>Shea, Owen</td>\n",
       "      <td>Slo, Ca</td>\n",
       "      <td>M</td>\n",
       "      <td>1</td>\n",
       "      <td>4</td>\n",
       "      <td>5</td>\n",
       "      <td>19.07</td>\n",
       "      <td>49</td>\n",
       "    </tr>\n",
       "  </tbody>\n",
       "</table>\n",
       "</div>"
      ],
      "text/plain": [
       "     BIB                 Name             Hometown Gender  AgeRank  \\\n",
       "0   1538  Ricketts, Christian     Grover Beach, Ca      M        1   \n",
       "1   1581      Mccarty, Travis    Arroyo Grande, Ca      M        1   \n",
       "2   1679        Bounds, Julia     Redwood City, Ca      F        1   \n",
       "3  91506   Krichevsky, Daniel  San Luis Obispo, Ca      M        1   \n",
       "4   1591           Shea, Owen              Slo, Ca      M        1   \n",
       "\n",
       "   GenderRank  OverallRank   Time  Age  \n",
       "0           1            1  16.18   13  \n",
       "1           2            2  17.15   34  \n",
       "2           1            3  18.80   14  \n",
       "3           3            4  19.02   27  \n",
       "4           4            5  19.07   49  "
      ]
     },
     "execution_count": 16,
     "metadata": {},
     "output_type": "execute_result"
    }
   ],
   "source": [
    "import pandas as pd\n",
    "\n",
    "# Save data URL\n",
    "url = \"http://www.rossmanchance.com/iscam2/data/Talley5K2013.txt\"\n",
    "\n",
    "# Use pandas to read in the data from the URL\n",
    "runners = pd.read_csv(url, sep = \"\\s+\")\n",
    "runners.head()"
   ]
  },
  {
   "cell_type": "markdown",
   "metadata": {},
   "source": [
    "Use technology to produce a scatterplot of finish time vs. age. [You can copy the data into Excel,\n",
    "using Data > Text to Columns and delimiting by spaces, and then copy the last two columns (age, time)\n",
    "into the Analyzing Two Quantitative variables applet, using age as the explanatory variable.] Do you\n",
    "want to change any of your answers to (b) in light of this graph? Also discuss any other unusual features\n",
    "of the data."
   ]
  },
  {
   "cell_type": "code",
   "execution_count": 17,
   "metadata": {},
   "outputs": [
    {
     "data": {
      "image/png": "[encoded data removed]",
      "text/plain": [
       "<Figure size 432x288 with 1 Axes>"
      ]
     },
     "metadata": {
      "needs_background": "light"
     },
     "output_type": "display_data"
    }
   ],
   "source": [
    "# Produce a scatterplot of finish time and age\n",
    "import matplotlib.pyplot as plt\n",
    "plt.scatter(runners.Time, runners.Age)\n",
    "plt.title(\"Runner Finish Time vs Runner Age\")\n",
    "plt.xlabel(\"Time (Minutes)\")\n",
    "plt.ylabel(\"Age\")\n",
    "plt.show()"
   ]
  },
  {
   "cell_type": "markdown",
   "metadata": {},
   "source": [
    "Remove the outlier (the name was a duplicate and the time was later dropped from the official\n",
    "published results), and determine the least-squares regression equation for predicting finish time from\n",
    "age. Interpret the slope coefficient in context."
   ]
  },
  {
   "cell_type": "code",
   "execution_count": 19,
   "metadata": {},
   "outputs": [
    {
     "data": {
      "image/png": "[encoded data removed]",
      "text/plain": [
       "<Figure size 432x288 with 1 Axes>"
      ]
     },
     "metadata": {
      "needs_background": "light"
     },
     "output_type": "display_data"
    }
   ],
   "source": [
    "# Remove outlier from dataset\n",
    "plausible_runners = runners['Time'] < 70\n",
    "runners = runners[plausible_runners]\n",
    "plt.scatter(runners.Time, runners.Age)\n",
    "plt.title(\"Runner Finish Time vs Runner Age\")\n",
    "plt.xlabel(\"Time (Minutes)\")\n",
    "plt.ylabel(\"Age\")\n",
    "plt.show()"
   ]
  },
  {
   "cell_type": "code",
   "execution_count": 22,
   "metadata": {},
   "outputs": [
    {
     "name": "stdout",
     "output_type": "stream",
     "text": [
      "Intercept    26.960993\n",
      "Age           0.140322\n",
      "dtype: float64\n",
      "                            OLS Regression Results                            \n",
      "==============================================================================\n",
      "Dep. Variable:                   Time   R-squared:                       0.076\n",
      "Model:                            OLS   Adj. R-squared:                  0.072\n",
      "Method:                 Least Squares   F-statistic:                     20.13\n",
      "Date:                Mon, 11 Mar 2019   Prob (F-statistic):           1.11e-05\n",
      "Time:                        00:21:00   Log-Likelihood:                -871.15\n",
      "No. Observations:                 247   AIC:                             1746.\n",
      "Df Residuals:                     245   BIC:                             1753.\n",
      "Df Model:                           1                                         \n",
      "Covariance Type:            nonrobust                                         \n",
      "==============================================================================\n",
      "                 coef    std err          t      P>|t|      [0.025      0.975]\n",
      "------------------------------------------------------------------------------\n",
      "Intercept     26.9610      1.314     20.516      0.000      24.373      29.549\n",
      "Age            0.1403      0.031      4.487      0.000       0.079       0.202\n",
      "==============================================================================\n",
      "Omnibus:                       17.807   Durbin-Watson:                   0.142\n",
      "Prob(Omnibus):                  0.000   Jarque-Bera (JB):               19.889\n",
      "Skew:                           0.692   Prob(JB):                     4.80e-05\n",
      "Kurtosis:                       3.128   Cond. No.                         105.\n",
      "==============================================================================\n",
      "\n",
      "Warnings:\n",
      "[1] Standard Errors assume that the covariance matrix of the errors is correctly specified.\n"
     ]
    },
    {
     "data": {
      "text/plain": [
       "(None, None)"
      ]
     },
     "execution_count": 22,
     "metadata": {},
     "output_type": "execute_result"
    }
   ],
   "source": [
    "# Generate the ordinary least squares regression line and associated output\n",
    "import statsmodels.formula.api as sm\n",
    "reg = sm.ols(formula = \"Time ~ Age\", data = runners).fit()\n",
    "print(reg.params), print(reg.summary())\n",
    "\n",
    "# incredible!"
   ]
  },
  {
   "cell_type": "code",
   "execution_count": null,
   "metadata": {},
   "outputs": [],
   "source": []
  }
 ],
 "metadata": {
  "kernelspec": {
   "display_name": "Python 3",
   "language": "python",
   "name": "python3"
  },
  "language_info": {
   "codemirror_mode": {
    "name": "ipython",
    "version": 3
   },
   "file_extension": ".py",
   "mimetype": "text/x-python",
   "name": "python",
   "nbconvert_exporter": "python",
   "pygments_lexer": "ipython3",
   "version": "3.7.1"
  }
 },
 "nbformat": 4,
 "nbformat_minor": 2
}
