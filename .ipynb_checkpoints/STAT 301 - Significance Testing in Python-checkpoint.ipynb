{
 "cells": [
  {
   "cell_type": "code",
   "execution_count": 1,
   "metadata": {},
   "outputs": [],
   "source": [
    "# Import necessary libraries for the notebook\n",
    "import numpy as np\n",
    "import pandas as pd\n",
    "from scipy import stats"
   ]
  },
  {
   "cell_type": "markdown",
   "metadata": {},
   "source": [
    "### Testing for Statistical Significance in Python\n",
    "\n",
    "In statistics, we commonly use the concept of *significance* to help judge the plausibility of a hypothesis about a population parameter, based on observed sample data. \n",
    "\n",
    "To do so, we first begin with an initial belief about the parameter (the *null hypothesis,* denoted by H<sub>0</sub>), and propose an *alternative hypothesis*, H<sub>A</sub>, to test with the data. We then analyze the data under the assumption that the null hypothesis is true, and determine the probability that we would observe data *as or more extreme* than that our sample produced. This probability is referred to as a *p-value.*\n",
    "\n",
    "Prior to conducting the hypothesis test we set a *significance level* for the test. The significance level represents a cut-off point for the null hypothesis - when the p-value for the data is sufficiently low (lower than the significance level), we reject the null hypothesis in favor of the alternative one. The significance level is denoted by $\\alpha$. \n",
    "\n",
    "Let's try a simple example in the binomial setting, to determine whether or not a coin is fair. First, we'll grab the CoinTosses dataset:"
   ]
  },
  {
   "cell_type": "code",
   "execution_count": 2,
   "metadata": {},
   "outputs": [
    {
     "data": {
      "text/html": [
       "<div>\n",
       "<style scoped>\n",
       "    .dataframe tbody tr th:only-of-type {\n",
       "        vertical-align: middle;\n",
       "    }\n",
       "\n",
       "    .dataframe tbody tr th {\n",
       "        vertical-align: top;\n",
       "    }\n",
       "\n",
       "    .dataframe thead th {\n",
       "        text-align: right;\n",
       "    }\n",
       "</style>\n",
       "<table border=\"1\" class=\"dataframe\">\n",
       "  <thead>\n",
       "    <tr style=\"text-align: right;\">\n",
       "      <th></th>\n",
       "      <th>coin_1</th>\n",
       "      <th>coin_2</th>\n",
       "    </tr>\n",
       "  </thead>\n",
       "  <tbody>\n",
       "    <tr>\n",
       "      <th>0</th>\n",
       "      <td>TAILS</td>\n",
       "      <td>HEADS</td>\n",
       "    </tr>\n",
       "    <tr>\n",
       "      <th>1</th>\n",
       "      <td>HEADS</td>\n",
       "      <td>TAILS</td>\n",
       "    </tr>\n",
       "    <tr>\n",
       "      <th>2</th>\n",
       "      <td>TAILS</td>\n",
       "      <td>TAILS</td>\n",
       "    </tr>\n",
       "    <tr>\n",
       "      <th>3</th>\n",
       "      <td>HEADS</td>\n",
       "      <td>TAILS</td>\n",
       "    </tr>\n",
       "    <tr>\n",
       "      <th>4</th>\n",
       "      <td>TAILS</td>\n",
       "      <td>TAILS</td>\n",
       "    </tr>\n",
       "  </tbody>\n",
       "</table>\n",
       "</div>"
      ],
      "text/plain": [
       "  coin_1 coin_2\n",
       "0  TAILS  HEADS\n",
       "1  HEADS  TAILS\n",
       "2  TAILS  TAILS\n",
       "3  HEADS  TAILS\n",
       "4  TAILS  TAILS"
      ]
     },
     "execution_count": 2,
     "metadata": {},
     "output_type": "execute_result"
    }
   ],
   "source": [
    "# Read in the text data set with the Pandas library\n",
    "coin_toss_pd = pd.read_table(\"C:/Users/Matthew/Documents/CoinTosses.txt\", header = 0)\n",
    "\n",
    "# Display the first few rows of the data set\n",
    "coin_toss_pd.head()"
   ]
  },
  {
   "cell_type": "markdown",
   "metadata": {},
   "source": [
    "The dataset has recorded the outcomes from 100 tosses of two coins. To work with this dataset, it will be convenient for us to code the outcomes as 1's and 0's rather than Heads and Tails. We'll code Heads as 1 and Tails as 0:"
   ]
  },
  {
   "cell_type": "code",
   "execution_count": 3,
   "metadata": {},
   "outputs": [
    {
     "data": {
      "text/html": [
       "<div>\n",
       "<style scoped>\n",
       "    .dataframe tbody tr th:only-of-type {\n",
       "        vertical-align: middle;\n",
       "    }\n",
       "\n",
       "    .dataframe tbody tr th {\n",
       "        vertical-align: top;\n",
       "    }\n",
       "\n",
       "    .dataframe thead th {\n",
       "        text-align: right;\n",
       "    }\n",
       "</style>\n",
       "<table border=\"1\" class=\"dataframe\">\n",
       "  <thead>\n",
       "    <tr style=\"text-align: right;\">\n",
       "      <th></th>\n",
       "      <th>coin_1</th>\n",
       "      <th>coin_2</th>\n",
       "    </tr>\n",
       "  </thead>\n",
       "  <tbody>\n",
       "    <tr>\n",
       "      <th>0</th>\n",
       "      <td>0</td>\n",
       "      <td>1</td>\n",
       "    </tr>\n",
       "    <tr>\n",
       "      <th>1</th>\n",
       "      <td>1</td>\n",
       "      <td>0</td>\n",
       "    </tr>\n",
       "    <tr>\n",
       "      <th>2</th>\n",
       "      <td>0</td>\n",
       "      <td>0</td>\n",
       "    </tr>\n",
       "    <tr>\n",
       "      <th>3</th>\n",
       "      <td>1</td>\n",
       "      <td>0</td>\n",
       "    </tr>\n",
       "    <tr>\n",
       "      <th>4</th>\n",
       "      <td>0</td>\n",
       "      <td>0</td>\n",
       "    </tr>\n",
       "  </tbody>\n",
       "</table>\n",
       "</div>"
      ],
      "text/plain": [
       "   coin_1  coin_2\n",
       "0       0       1\n",
       "1       1       0\n",
       "2       0       0\n",
       "3       1       0\n",
       "4       0       0"
      ]
     },
     "execution_count": 3,
     "metadata": {},
     "output_type": "execute_result"
    }
   ],
   "source": [
    "# Code each variable into 1's and 0's\n",
    "coin_toss_pd['coin_1'] = coin_toss_pd['coin_1'].map({'HEADS':1, 'TAILS':0})\n",
    "coin_toss_pd['coin_2'] = coin_toss_pd['coin_2'].map({'HEADS':1, 'TAILS':0})\n",
    "\n",
    "coin_toss_pd.head()"
   ]
  },
  {
   "cell_type": "code",
   "execution_count": 4,
   "metadata": {},
   "outputs": [
    {
     "name": "stdout",
     "output_type": "stream",
     "text": [
      "Mean for Coin 1:  0.56\n",
      "Mean for Coin 2:  0.41\n"
     ]
    }
   ],
   "source": [
    "# Find the expected number of heads for each coin and print\n",
    "print (\"Mean for Coin 1: \", coin_toss_pd.coin_1.mean())\n",
    "print (\"Mean for Coin 2: \", coin_toss_pd.coin_2.mean())\n"
   ]
  },
  {
   "cell_type": "markdown",
   "metadata": {},
   "source": [
    "Now we are ready to address our research question: Are the coins fair?\n",
    "\n",
    "First, state the hypotheses in context:\n",
    "\n",
    "H<sub>0</sub>: Pr(Heads) = 0.5, i.e. both sides are equally likely, and\n",
    "\n",
    "H<sub>A</sub>: Pr(Heads) < 0.5, i.e. Tails is more likely than Heads.\n",
    "\n",
    "We'll test the hypotheses with each coin at a significance level of $\\alpha$ = 0.05.\n",
    "\n"
   ]
  },
  {
   "cell_type": "code",
   "execution_count": 5,
   "metadata": {},
   "outputs": [
    {
     "name": "stdout",
     "output_type": "stream",
     "text": [
      "P-Value for Coin 1:  0.903\n",
      "P-value for Coin 2:  0.044\n"
     ]
    }
   ],
   "source": [
    "# Import convenient commands related to the binomial distribution \n",
    "from scipy.stats import binom\n",
    "\n",
    "# Specify the binomial distribution of interest with the sample size and our null success probability\n",
    "coin_dist = stats.binom(n = len(coin_toss_pd.coin_1), p = .5)\n",
    "\n",
    "# Calculate a p-value by comparing our sample results to the null distribution and print\n",
    "coin_1_p_value = round(coin_dist.cdf(sum(coin_toss_pd.coin_1)), 3)\n",
    "print (\"P-Value for Coin 1: \", coin_1_p_value)\n",
    "\n",
    "# Repeat for Coin 2\n",
    "coin_2_p_value = round(coin_dist.cdf(sum(coin_toss_pd.coin_2)), 3)\n",
    "print (\"P-value for Coin 2: \", coin_2_p_value)"
   ]
  },
  {
   "cell_type": "markdown",
   "metadata": {},
   "source": [
    "All that's left to do is compare the calculated p-values to the significance level we established prior to the test. Coin 1's p-value comes out to approximately 0.903, which is greater than the significance level of 0.05. This leads us to fail to reject the null hypothesis, as we do not have sufficient evidence to believe that the coin is biased toward one side or the other. The data we observed is not extreme enough to convince us that the probability of the coin landing heads is 0.5.\n",
    "\n",
    "The computed p-value for coin 2 is about 0.044, which is lower than our significance level of 0.05. This means that we do have statistically significant evidence that the probability of the coin landing on heads is less than 0.5, and hence reject the null hypothesis that the coin is fair. "
   ]
  }
 ],
 "metadata": {
  "kernelspec": {
   "display_name": "Python 3",
   "language": "python",
   "name": "python3"
  },
  "language_info": {
   "codemirror_mode": {
    "name": "ipython",
    "version": 3
   },
   "file_extension": ".py",
   "mimetype": "text/x-python",
   "name": "python",
   "nbconvert_exporter": "python",
   "pygments_lexer": "ipython3",
   "version": "3.7.1"
  }
 },
 "nbformat": 4,
 "nbformat_minor": 2
}
