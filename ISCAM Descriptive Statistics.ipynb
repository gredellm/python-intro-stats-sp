{
 "cells": [
  {
   "cell_type": "code",
   "execution_count": 33,
   "metadata": {},
   "outputs": [],
   "source": [
    "# Import necessary packages\n",
    "import pandas as pd\n",
    "import matplotlib.pyplot as plt\n",
    "from scipy.stats import norm\n",
    "import numpy as np"
   ]
  },
  {
   "cell_type": "code",
   "execution_count": 3,
   "metadata": {},
   "outputs": [
    {
     "data": {
      "text/html": [
       "<div>\n",
       "<style scoped>\n",
       "    .dataframe tbody tr th:only-of-type {\n",
       "        vertical-align: middle;\n",
       "    }\n",
       "\n",
       "    .dataframe tbody tr th {\n",
       "        vertical-align: top;\n",
       "    }\n",
       "\n",
       "    .dataframe thead th {\n",
       "        text-align: right;\n",
       "    }\n",
       "</style>\n",
       "<table border=\"1\" class=\"dataframe\">\n",
       "  <thead>\n",
       "    <tr style=\"text-align: right;\">\n",
       "      <th></th>\n",
       "      <th>date</th>\n",
       "      <th>birthweight</th>\n",
       "      <th>5_min_apgar</th>\n",
       "      <th>mom_weight_gain(lbs)</th>\n",
       "      <th>full_term?</th>\n",
       "      <th>mom_age</th>\n",
       "      <th>mom_race</th>\n",
       "      <th>marital_status</th>\n",
       "      <th>dad_age</th>\n",
       "      <th>dad_race</th>\n",
       "      <th>mom_BMI</th>\n",
       "      <th>num</th>\n",
       "      <th>sex</th>\n",
       "      <th>weeks</th>\n",
       "      <th>no_inf</th>\n",
       "    </tr>\n",
       "  </thead>\n",
       "  <tbody>\n",
       "    <tr>\n",
       "      <th>0</th>\n",
       "      <td>2016Jan</td>\n",
       "      <td>3705</td>\n",
       "      <td>9</td>\n",
       "      <td>25</td>\n",
       "      <td>1</td>\n",
       "      <td>35</td>\n",
       "      <td>1</td>\n",
       "      <td>1</td>\n",
       "      <td>5</td>\n",
       "      <td>1</td>\n",
       "      <td>31.5</td>\n",
       "      <td>1</td>\n",
       "      <td>F</td>\n",
       "      <td>40</td>\n",
       "      <td>True</td>\n",
       "    </tr>\n",
       "    <tr>\n",
       "      <th>1</th>\n",
       "      <td>2016Jan</td>\n",
       "      <td>3204</td>\n",
       "      <td>9</td>\n",
       "      <td>35</td>\n",
       "      <td>1</td>\n",
       "      <td>32</td>\n",
       "      <td>4</td>\n",
       "      <td>1</td>\n",
       "      <td>5</td>\n",
       "      <td>4</td>\n",
       "      <td>24.2</td>\n",
       "      <td>1</td>\n",
       "      <td>F</td>\n",
       "      <td>39</td>\n",
       "      <td>True</td>\n",
       "    </tr>\n",
       "    <tr>\n",
       "      <th>2</th>\n",
       "      <td>2016Jan</td>\n",
       "      <td>4499</td>\n",
       "      <td>9</td>\n",
       "      <td>35</td>\n",
       "      <td>1</td>\n",
       "      <td>18</td>\n",
       "      <td>3</td>\n",
       "      <td>2</td>\n",
       "      <td>2</td>\n",
       "      <td>3</td>\n",
       "      <td>23.8</td>\n",
       "      <td>1</td>\n",
       "      <td>M</td>\n",
       "      <td>39</td>\n",
       "      <td>True</td>\n",
       "    </tr>\n",
       "    <tr>\n",
       "      <th>3</th>\n",
       "      <td>2016Jan</td>\n",
       "      <td>3660</td>\n",
       "      <td>9</td>\n",
       "      <td>26</td>\n",
       "      <td>1</td>\n",
       "      <td>34</td>\n",
       "      <td>1</td>\n",
       "      <td>2</td>\n",
       "      <td>6</td>\n",
       "      <td>1</td>\n",
       "      <td>30.9</td>\n",
       "      <td>1</td>\n",
       "      <td>M</td>\n",
       "      <td>46</td>\n",
       "      <td>True</td>\n",
       "    </tr>\n",
       "    <tr>\n",
       "      <th>4</th>\n",
       "      <td>2016Jan</td>\n",
       "      <td>2866</td>\n",
       "      <td>9</td>\n",
       "      <td>43</td>\n",
       "      <td>1</td>\n",
       "      <td>31</td>\n",
       "      <td>4</td>\n",
       "      <td>1</td>\n",
       "      <td>5</td>\n",
       "      <td>4</td>\n",
       "      <td>23.8</td>\n",
       "      <td>1</td>\n",
       "      <td>F</td>\n",
       "      <td>39</td>\n",
       "      <td>True</td>\n",
       "    </tr>\n",
       "  </tbody>\n",
       "</table>\n",
       "</div>"
      ],
      "text/plain": [
       "      date  birthweight  5_min_apgar  mom_weight_gain(lbs)  full_term?  \\\n",
       "0  2016Jan         3705            9                    25           1   \n",
       "1  2016Jan         3204            9                    35           1   \n",
       "2  2016Jan         4499            9                    35           1   \n",
       "3  2016Jan         3660            9                    26           1   \n",
       "4  2016Jan         2866            9                    43           1   \n",
       "\n",
       "   mom_age  mom_race  marital_status  dad_age  dad_race  mom_BMI  num sex  \\\n",
       "0       35         1               1        5         1     31.5    1   F   \n",
       "1       32         4               1        5         4     24.2    1   F   \n",
       "2       18         3               2        2         3     23.8    1   M   \n",
       "3       34         1               2        6         1     30.9    1   M   \n",
       "4       31         4               1        5         4     23.8    1   F   \n",
       "\n",
       "   weeks no_inf  \n",
       "0     40   True  \n",
       "1     39   True  \n",
       "2     39   True  \n",
       "3     46   True  \n",
       "4     39   True  "
      ]
     },
     "execution_count": 3,
     "metadata": {},
     "output_type": "execute_result"
    }
   ],
   "source": [
    "# Save data URL\n",
    "url = \"http://www.rossmanchance.com/iscam3/data/USbirthsJan2016.txt\"\n",
    "\n",
    "# Use pandas to read in the data from the URL\n",
    "birthweights = pd.read_csv(url, sep = \"\\s+\")\n",
    "birthweights.head()"
   ]
  },
  {
   "cell_type": "code",
   "execution_count": 4,
   "metadata": {},
   "outputs": [
    {
     "data": {
      "text/plain": [
       "317445"
      ]
     },
     "execution_count": 4,
     "metadata": {},
     "output_type": "execute_result"
    }
   ],
   "source": [
    "# Check number of rows in dataset\n",
    "len(birthweights)"
   ]
  },
  {
   "cell_type": "code",
   "execution_count": 28,
   "metadata": {},
   "outputs": [
    {
     "data": {
      "image/png": "[encoded data removed]",
      "text/plain": [
       "<Figure size 432x288 with 1 Axes>"
      ]
     },
     "metadata": {
      "needs_background": "light"
     },
     "output_type": "display_data"
    }
   ],
   "source": [
    "###### The next part of this lesson has the student create a dotplot of the \n",
    "###### birth weights. I wasn't able to find a convenient way to do this, so\n",
    "###### I skipped this portion and created histograms.\n",
    "\n",
    "# Create a histogram with numpy\n",
    "plt.hist(birthweights.birthweight, bins = 30)\n",
    "plt.title(\"Histogram of Birthweights\")\n",
    "plt.show()"
   ]
  },
  {
   "cell_type": "code",
   "execution_count": 27,
   "metadata": {},
   "outputs": [
    {
     "data": {
      "image/png": "[encoded data removed]",
      "text/plain": [
       "<Figure size 432x288 with 1 Axes>"
      ]
     },
     "metadata": {
      "needs_background": "light"
     },
     "output_type": "display_data"
    }
   ],
   "source": [
    "# Note that there are some birthweights entered as 9999. We'll want to \n",
    "# remove these observations:\n",
    "\n",
    "# First create variable that stores values of \"True\" for birthweights smaller\n",
    "# than the largest one, 8165 grams (from text)\n",
    "plausible_bw = birthweights['birthweight'] < 8166\n",
    "# Then select the observations which fit that condition and save a new data frame\n",
    "bw_clean1 = birthweights[plausible_bw]\n",
    "# Create another histogram to confirm\n",
    "plt.hist(bw_clean1.birthweight, bins = 30)\n",
    "plt.title(\"Histogram of Birthweights\")\n",
    "plt.show()"
   ]
  },
  {
   "cell_type": "code",
   "execution_count": 21,
   "metadata": {},
   "outputs": [
    {
     "data": {
      "text/plain": [
       "count    317037.000000\n",
       "mean       3259.111236\n",
       "std         592.148805\n",
       "min         227.000000\n",
       "25%        2958.000000\n",
       "50%        3297.000000\n",
       "75%        3629.000000\n",
       "max        6897.000000\n",
       "Name: birthweight, dtype: float64"
      ]
     },
     "execution_count": 21,
     "metadata": {},
     "output_type": "execute_result"
    }
   ],
   "source": [
    "# To get an idea of shape, center, and spread of the birthweights nymerically,\n",
    "# quickly summarize the variable with the pandas 'describe' function(?)\n",
    "bw_clean1.birthweight.describe()"
   ]
  },
  {
   "cell_type": "code",
   "execution_count": 26,
   "metadata": {},
   "outputs": [
    {
     "data": {
      "text/plain": [
       "<function matplotlib.pyplot.show(*args, **kw)>"
      ]
     },
     "execution_count": 26,
     "metadata": {},
     "output_type": "execute_result"
    },
    {
     "data": {
      "image/png": "[encoded data removed]",
      "text/plain": [
       "<Figure size 432x288 with 1 Axes>"
      ]
     },
     "metadata": {
      "needs_background": "light"
     },
     "output_type": "display_data"
    }
   ],
   "source": [
    "# Now subset the cleaned dataset by whether the pregnancy lasted at least 37\n",
    "# weeks and less than 99 weeks\n",
    "bw_clean2 =  bw_clean1[(bw_clean1['weeks'] > 37) & (bw_clean1['weeks'] < 99)]\n",
    "plt.hist(bw_clean2.birthweight, bins = 30)\n",
    "plt.title(\"Histogram of Birthweights\")\n",
    "plt.show"
   ]
  },
  {
   "cell_type": "code",
   "execution_count": 24,
   "metadata": {},
   "outputs": [
    {
     "data": {
      "text/plain": [
       "count    251045.000000\n",
       "mean       3395.587225\n",
       "std         459.850870\n",
       "min         464.000000\n",
       "25%        3090.000000\n",
       "50%        3380.000000\n",
       "75%        3685.000000\n",
       "max        6897.000000\n",
       "Name: birthweight, dtype: float64"
      ]
     },
     "execution_count": 24,
     "metadata": {},
     "output_type": "execute_result"
    }
   ],
   "source": [
    "# Once again, use descirbe to summarize the new, cleaner dataset\n",
    "bw_clean2.birthweight.describe()"
   ]
  },
  {
   "cell_type": "code",
   "execution_count": 41,
   "metadata": {
    "scrolled": true
   },
   "outputs": [
    {
     "data": {
      "image/png": "[encoded data removed]",
      "text/plain": [
       "<Figure size 432x288 with 1 Axes>"
      ]
     },
     "metadata": {
      "needs_background": "light"
     },
     "output_type": "display_data"
    }
   ],
   "source": [
    "# Next we'd like to overlay a normal distribution on the histogram of the cleaned\n",
    "# data to visually assess the fit of the data\n",
    "\n",
    "# Use scipy.stats to generate a normal  distribution based on the data values\n",
    "# for mean and standard deviation, then generate the histogram from earlier\n",
    "mu, sd = norm.fit(bw_clean2.birthweight)\n",
    "plt.hist(bw_clean2.birthweight, bins = 30)\n",
    "\n",
    "# Python will require that we do a little more to help build the plot of the \n",
    "# normal distribution than R does, so we'll start by telling it what range of\n",
    "#values of X to plot over\n",
    "xmin = bw_clean2.birthweight.min()\n",
    "xmax = bw_clean2.birthweight.max()\n",
    "xrange = np.linspace(xmin, xmax, 1000)\n",
    "\n",
    "# With that, generate the normal distribution\n",
    "pdf = norm.pdf(xrange, mu, sd)\n",
    "\n",
    "# Then add the created distribution to the plot\n",
    "plt.plot(xrange, pdf)\n",
    "\n",
    "# Add a title and display the finished graph\n",
    "plt.title(\"Birthweights With Overlaid Normal Distribution\")\n",
    "plt.show()"
   ]
  },
  {
   "cell_type": "code",
   "execution_count": 39,
   "metadata": {},
   "outputs": [
    {
     "data": {
      "text/plain": [
       "6897"
      ]
     },
     "execution_count": 39,
     "metadata": {},
     "output_type": "execute_result"
    }
   ],
   "source": [
    "xmax"
   ]
  },
  {
   "cell_type": "markdown",
   "metadata": {},
   "source": []
  }
 ],
 "metadata": {
  "kernelspec": {
   "display_name": "Python 3",
   "language": "python",
   "name": "python3"
  },
  "language_info": {
   "codemirror_mode": {
    "name": "ipython",
    "version": 3
   },
   "file_extension": ".py",
   "mimetype": "text/x-python",
   "name": "python",
   "nbconvert_exporter": "python",
   "pygments_lexer": "ipython3",
   "version": "3.7.1"
  }
 },
 "nbformat": 4,
 "nbformat_minor": 2
}
