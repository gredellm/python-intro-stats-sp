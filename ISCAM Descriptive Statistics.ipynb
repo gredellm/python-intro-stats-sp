{
 "cells": [
  {
   "cell_type": "markdown",
   "metadata": {},
   "source": [
    "##### This notebook covers Investigations 2.1 and 2.2 from the Chapter 2 Section 1: Descriptive Statistics in ISCAM III"
   ]
  },
  {
   "cell_type": "code",
   "execution_count": 73,
   "metadata": {},
   "outputs": [],
   "source": [
    "import pandas as pd"
   ]
  },
  {
   "cell_type": "markdown",
   "metadata": {},
   "source": [
    "### Investigation 2.1:  Birth Weights\n",
    "\n",
    "The CDC’s Vital Statistics Data allows you to download birth records for all births in the U.S. in a\n",
    "particular year. In fact, we downloaded the records for all 3,956,112 births in 2016 and then extracted\n",
    "several variables including the birth weight of the child (in grams). Can we use these data to build a\n",
    "model of how birth weights can be expected to behave in the future? Can we use that model to make\n",
    "predictions about certain kinds of birth weights? The file USbirthsJan2016.txt contains information on\n",
    "all the births in January 2016, including birth weight, whether the baby was full term (gestation over 36\n",
    "weeks), the 5 minute apgar score (an immediate measure of the infant’s health), and the amount of\n",
    "weight gained by the mother during pregnancy (in lbs)."
   ]
  },
  {
   "cell_type": "code",
   "execution_count": 2,
   "metadata": {},
   "outputs": [
    {
     "data": {
      "text/html": [
       "<div>\n",
       "<style scoped>\n",
       "    .dataframe tbody tr th:only-of-type {\n",
       "        vertical-align: middle;\n",
       "    }\n",
       "\n",
       "    .dataframe tbody tr th {\n",
       "        vertical-align: top;\n",
       "    }\n",
       "\n",
       "    .dataframe thead th {\n",
       "        text-align: right;\n",
       "    }\n",
       "</style>\n",
       "<table border=\"1\" class=\"dataframe\">\n",
       "  <thead>\n",
       "    <tr style=\"text-align: right;\">\n",
       "      <th></th>\n",
       "      <th>date</th>\n",
       "      <th>birthweight</th>\n",
       "      <th>5_min_apgar</th>\n",
       "      <th>mom_weight_gain(lbs)</th>\n",
       "      <th>full_term?</th>\n",
       "      <th>mom_age</th>\n",
       "      <th>mom_race</th>\n",
       "      <th>marital_status</th>\n",
       "      <th>dad_age</th>\n",
       "      <th>dad_race</th>\n",
       "      <th>mom_BMI</th>\n",
       "      <th>num</th>\n",
       "      <th>sex</th>\n",
       "      <th>weeks</th>\n",
       "      <th>no_inf</th>\n",
       "    </tr>\n",
       "  </thead>\n",
       "  <tbody>\n",
       "    <tr>\n",
       "      <th>0</th>\n",
       "      <td>2016Jan</td>\n",
       "      <td>3705</td>\n",
       "      <td>9</td>\n",
       "      <td>25</td>\n",
       "      <td>1</td>\n",
       "      <td>35</td>\n",
       "      <td>1</td>\n",
       "      <td>1</td>\n",
       "      <td>5</td>\n",
       "      <td>1</td>\n",
       "      <td>31.5</td>\n",
       "      <td>1</td>\n",
       "      <td>F</td>\n",
       "      <td>40</td>\n",
       "      <td>True</td>\n",
       "    </tr>\n",
       "    <tr>\n",
       "      <th>1</th>\n",
       "      <td>2016Jan</td>\n",
       "      <td>3204</td>\n",
       "      <td>9</td>\n",
       "      <td>35</td>\n",
       "      <td>1</td>\n",
       "      <td>32</td>\n",
       "      <td>4</td>\n",
       "      <td>1</td>\n",
       "      <td>5</td>\n",
       "      <td>4</td>\n",
       "      <td>24.2</td>\n",
       "      <td>1</td>\n",
       "      <td>F</td>\n",
       "      <td>39</td>\n",
       "      <td>True</td>\n",
       "    </tr>\n",
       "    <tr>\n",
       "      <th>2</th>\n",
       "      <td>2016Jan</td>\n",
       "      <td>4499</td>\n",
       "      <td>9</td>\n",
       "      <td>35</td>\n",
       "      <td>1</td>\n",
       "      <td>18</td>\n",
       "      <td>3</td>\n",
       "      <td>2</td>\n",
       "      <td>2</td>\n",
       "      <td>3</td>\n",
       "      <td>23.8</td>\n",
       "      <td>1</td>\n",
       "      <td>M</td>\n",
       "      <td>39</td>\n",
       "      <td>True</td>\n",
       "    </tr>\n",
       "    <tr>\n",
       "      <th>3</th>\n",
       "      <td>2016Jan</td>\n",
       "      <td>3660</td>\n",
       "      <td>9</td>\n",
       "      <td>26</td>\n",
       "      <td>1</td>\n",
       "      <td>34</td>\n",
       "      <td>1</td>\n",
       "      <td>2</td>\n",
       "      <td>6</td>\n",
       "      <td>1</td>\n",
       "      <td>30.9</td>\n",
       "      <td>1</td>\n",
       "      <td>M</td>\n",
       "      <td>46</td>\n",
       "      <td>True</td>\n",
       "    </tr>\n",
       "    <tr>\n",
       "      <th>4</th>\n",
       "      <td>2016Jan</td>\n",
       "      <td>2866</td>\n",
       "      <td>9</td>\n",
       "      <td>43</td>\n",
       "      <td>1</td>\n",
       "      <td>31</td>\n",
       "      <td>4</td>\n",
       "      <td>1</td>\n",
       "      <td>5</td>\n",
       "      <td>4</td>\n",
       "      <td>23.8</td>\n",
       "      <td>1</td>\n",
       "      <td>F</td>\n",
       "      <td>39</td>\n",
       "      <td>True</td>\n",
       "    </tr>\n",
       "  </tbody>\n",
       "</table>\n",
       "</div>"
      ],
      "text/plain": [
       "      date  birthweight  5_min_apgar  mom_weight_gain(lbs)  full_term?  \\\n",
       "0  2016Jan         3705            9                    25           1   \n",
       "1  2016Jan         3204            9                    35           1   \n",
       "2  2016Jan         4499            9                    35           1   \n",
       "3  2016Jan         3660            9                    26           1   \n",
       "4  2016Jan         2866            9                    43           1   \n",
       "\n",
       "   mom_age  mom_race  marital_status  dad_age  dad_race  mom_BMI  num sex  \\\n",
       "0       35         1               1        5         1     31.5    1   F   \n",
       "1       32         4               1        5         4     24.2    1   F   \n",
       "2       18         3               2        2         3     23.8    1   M   \n",
       "3       34         1               2        6         1     30.9    1   M   \n",
       "4       31         4               1        5         4     23.8    1   F   \n",
       "\n",
       "   weeks no_inf  \n",
       "0     40   True  \n",
       "1     39   True  \n",
       "2     39   True  \n",
       "3     46   True  \n",
       "4     39   True  "
      ]
     },
     "execution_count": 2,
     "metadata": {},
     "output_type": "execute_result"
    }
   ],
   "source": [
    "# Save data URL\n",
    "url = \"http://www.rossmanchance.com/iscam3/data/USbirthsJan2016.txt\"\n",
    "\n",
    "# Use pandas to read in the data from the URL\n",
    "birthweights = pd.read_csv(url, sep = \"\\s+\")\n",
    "birthweights.head()"
   ]
  },
  {
   "cell_type": "code",
   "execution_count": 3,
   "metadata": {},
   "outputs": [
    {
     "data": {
      "text/plain": [
       "317445"
      ]
     },
     "execution_count": 3,
     "metadata": {},
     "output_type": "execute_result"
    }
   ],
   "source": [
    "# Check number of rows in dataset\n",
    "len(birthweights)"
   ]
  },
  {
   "cell_type": "code",
   "execution_count": 59,
   "metadata": {},
   "outputs": [
    {
     "data": {
      "image/png": "[encoded data removed]",
      "text/plain": [
       "<Figure size 432x288 with 1 Axes>"
      ]
     },
     "metadata": {
      "needs_background": "light"
     },
     "output_type": "display_data"
    }
   ],
   "source": [
    "###### The next part of this lesson has the student create a dotplot of the \n",
    "###### birth weights. I wasn't able to find a convenient way to do this, so\n",
    "###### I skipped this portion and created histograms.\n",
    "\n",
    "# Create a histogram with matplotlib\n",
    "import matplotlib.pyplot as plt\n",
    "\n",
    "plt.hist(birthweights.birthweight, bins = 30)\n",
    "plt.title(\"Histogram of Birthweights\")\n",
    "plt.show()"
   ]
  },
  {
   "cell_type": "markdown",
   "metadata": {},
   "source": [
    "The observations at 9999 don’t seem to belong. The “codebook” for these data states that\n",
    "the largest birth weight is 8165 grams and for other variables it lists 99, 999, or 9999 as values for “not\n",
    "stated” or unknown.\n",
    "\n",
    "\n",
    "You could convert these observations to the missing value designator in your software (e.g., NaN in R)\n",
    "or you can create a new data set that does not include those rows."
   ]
  },
  {
   "cell_type": "code",
   "execution_count": 5,
   "metadata": {},
   "outputs": [
    {
     "data": {
      "image/png": "[encoded data removed]",
      "text/plain": [
       "<Figure size 432x288 with 1 Axes>"
      ]
     },
     "metadata": {
      "needs_background": "light"
     },
     "output_type": "display_data"
    }
   ],
   "source": [
    "# First create variable that stores values of \"True\" for birthweights smaller\n",
    "# than the largest one, 8165 grams (from text)\n",
    "plausible_bw = birthweights['birthweight'] < 8166\n",
    "# Then select the observations which fit that condition and save a new data frame\n",
    "bw_clean1 = birthweights[plausible_bw]\n",
    "# Create another histogram to confirm\n",
    "plt.hist(bw_clean1.birthweight, bins = 30)\n",
    "plt.title(\"Histogram of Birthweights\")\n",
    "plt.show()"
   ]
  },
  {
   "cell_type": "code",
   "execution_count": 7,
   "metadata": {},
   "outputs": [
    {
     "data": {
      "text/plain": [
       "count    317038.000000\n",
       "mean       3259.126710\n",
       "std         592.211969\n",
       "min         227.000000\n",
       "25%        2958.000000\n",
       "50%        3297.500000\n",
       "75%        3629.000000\n",
       "max        8165.000000\n",
       "Name: birthweight, dtype: float64"
      ]
     },
     "execution_count": 7,
     "metadata": {},
     "output_type": "execute_result"
    }
   ],
   "source": [
    "# To get an idea of shape, center, and spread of the birthweights nymerically,\n",
    "# quickly summarize the variable with the pandas 'describe' function\n",
    "bw_clean1.birthweight.describe()"
   ]
  },
  {
   "cell_type": "code",
   "execution_count": 8,
   "metadata": {},
   "outputs": [
    {
     "data": {
      "text/plain": [
       "<function matplotlib.pyplot.show(*args, **kw)>"
      ]
     },
     "execution_count": 8,
     "metadata": {},
     "output_type": "execute_result"
    },
    {
     "data": {
      "image/png": "[encoded data removed]",
      "text/plain": [
       "<Figure size 432x288 with 1 Axes>"
      ]
     },
     "metadata": {
      "needs_background": "light"
     },
     "output_type": "display_data"
    }
   ],
   "source": [
    "# Now subset the cleaned dataset by whether the pregnancy lasted at least 37\n",
    "# weeks and less than 99 weeks\n",
    "bw_clean2 =  bw_clean1[(bw_clean1['weeks'] > 37) & (bw_clean1['weeks'] < 99)]\n",
    "plt.hist(bw_clean2.birthweight, bins = 30)\n",
    "plt.title(\"Histogram of Birthweights\")\n",
    "plt.show"
   ]
  },
  {
   "cell_type": "markdown",
   "metadata": {},
   "source": [
    "How would you characterize the shape, center, and variability of these birthweights?"
   ]
  },
  {
   "cell_type": "code",
   "execution_count": 9,
   "metadata": {},
   "outputs": [
    {
     "data": {
      "text/plain": [
       "count    251045.000000\n",
       "mean       3395.587225\n",
       "std         459.850870\n",
       "min         464.000000\n",
       "25%        3090.000000\n",
       "50%        3380.000000\n",
       "75%        3685.000000\n",
       "max        6897.000000\n",
       "Name: birthweight, dtype: float64"
      ]
     },
     "execution_count": 9,
     "metadata": {},
     "output_type": "execute_result"
    }
   ],
   "source": [
    "# Once again, use descirbe to summarize the new, cleaner dataset\n",
    "bw_clean2.birthweight.describe()"
   ]
  },
  {
   "cell_type": "code",
   "execution_count": 15,
   "metadata": {},
   "outputs": [
    {
     "data": {
      "text/plain": [
       "459.850870383084"
      ]
     },
     "execution_count": 15,
     "metadata": {},
     "output_type": "execute_result"
    }
   ],
   "source": [
    "bw_clean2.birthweight.std()"
   ]
  },
  {
   "cell_type": "markdown",
   "metadata": {},
   "source": [
    "Many software programs will allow you to overlay a theoretical normal distribution to see how well it\n",
    "matches your data, using the mean and standard deviation from the observed data.\n",
    "\n",
    "Overlay a normal model on the distribution of birthweight data and comment on how well the model\n",
    "fits the data."
   ]
  },
  {
   "cell_type": "code",
   "execution_count": 60,
   "metadata": {
    "scrolled": true
   },
   "outputs": [
    {
     "data": {
      "image/png": "[encoded data removed]",
      "text/plain": [
       "<Figure size 432x288 with 1 Axes>"
      ]
     },
     "metadata": {
      "needs_background": "light"
     },
     "output_type": "display_data"
    }
   ],
   "source": [
    "# Next we'd like to overlay a normal distribution on the histogram of the cleaned\n",
    "# data to visually assess the fit of the data\n",
    "\n",
    "# Use scipy.stats to generate a normal  distribution based on the data values\n",
    "# for mean and standard deviation\n",
    "from scipy.stats import norm\n",
    "import numpy as np\n",
    "\n",
    "norm_vals = norm.rvs(bw_clean2.birthweight)\n",
    "mu, sd = norm.fit(norm_vals)\n",
    "\n",
    "# Plot birthweight histogram\n",
    "plt.hist(bw_clean2.birthweight, bins = 30, density = True)\n",
    "\n",
    "# Python will require that we do a little more to help build the plot of the \n",
    "# normal distribution than R does, so we'll start by telling it what range of\n",
    "# values of X to plot over\n",
    "xmin = bw_clean2.birthweight.min()\n",
    "xmax = bw_clean2.birthweight.max()\n",
    "xrange = np.linspace(xmin, xmax, 1000)\n",
    "\n",
    "# With that, generate the normal distribution\n",
    "pdf = norm.pdf(xrange, mu, sd)\n",
    "\n",
    "# Then add the created distribution to the plot\n",
    "plt.plot(xrange, pdf, 'r')\n",
    "\n",
    "# Add a title and display the finished graph\n",
    "plt.title(\"Birthweights Density With Overlaid Normal Distribution\")\n",
    "plt.show()"
   ]
  },
  {
   "cell_type": "code",
   "execution_count": 39,
   "metadata": {},
   "outputs": [
    {
     "data": {
      "text/plain": [
       "0.9529566412396184"
      ]
     },
     "execution_count": 39,
     "metadata": {},
     "output_type": "execute_result"
    }
   ],
   "source": [
    "# Verify that approximately 95% of the birthweights fall within two standard deviations of\n",
    "# the mean\n",
    "xbar = bw_clean2.birthweight.mean()\n",
    "s = bw_clean2.birthweight.std()\n",
    "within2sd = bw_clean2[(bw_clean2['birthweight'] > (xbar - 2*s)) & (bw_clean2['birthweight'] < (xbar + 2*s))]\n",
    "len(within2sd) / len(bw_clean2.birthweight)"
   ]
  },
  {
   "cell_type": "markdown",
   "metadata": {},
   "source": [
    "Another way to assess the “fit” of a probability model to the data is with a “probability plot” (aka\n",
    "quantile plot). Probability plots work roughly like this: The computer determines how many\n",
    "observations are in the data set, and then reports the z-scores it would expect for the 1/nth percentiles for\n",
    "(also called quantiles) for the probability model. The plot compares these z-scores to the observed data;\n",
    "if they “line up” then the graph supports that the data are behaving like a normal distribution. Whether\n",
    "or not the observations follow a line can be easier to judge than whether a histogram follows a curve."
   ]
  },
  {
   "cell_type": "code",
   "execution_count": 80,
   "metadata": {},
   "outputs": [
    {
     "data": {
      "image/png": "[encoded data removed]",
      "text/plain": [
       "<Figure size 432x288 with 1 Axes>"
      ]
     },
     "metadata": {
      "needs_background": "light"
     },
     "output_type": "display_data"
    }
   ],
   "source": [
    "# Create a normal probability plot for the birthweights to assess normality\n",
    "\n",
    "# Use probplot from scipy.stats  to do this with a variety of distributions;\n",
    "# default is normal\n",
    "from scipy.stats import probplot\n",
    "import pylab\n",
    "\n",
    "probplot(bw_clean2.birthweight, dist = 'norm', plot = pylab);"
   ]
  },
  {
   "cell_type": "markdown",
   "metadata": {},
   "source": [
    "Do the observations deviate much from a line? If so how? [Hints: What does this suggest about how the\n",
    "birth weight data values differ from what we would predict for a normal distribution (e.g., smallest\n",
    "values are smaller than expected or larger than expected)? Is this consistent with what you saw in the\n",
    "histogram?]\n",
    "\n",
    "\n",
    "Some software packages report a p-value with the normal probability plot. The null\n",
    "hypothesis here is actually that the data do follow a normal distribution, so if you fail to reject this null\n",
    "hypothesis you can say that the data do not provide strong evidence that they do not arise from a\n",
    "normally distributed population. (But keep in mind that large sample sizes will drive the p-value down,\n",
    "regardless of the actual shape of the population.) There are several different types of significance tests\n",
    "for normality, but in this text we will focus on the visual judgement of whether the probability plot\n",
    "appears to follow a straight line.\n",
    "\n",
    "Suppose we were willing to assume that in general birth weights are approximately normally distributed\n",
    "with mean 3360 grams and standard deviation 475 grams. We can use this model to make predictions,\n",
    "like how often a baby will be of low birth weight, defined as 2500 grams or less."
   ]
  },
  {
   "cell_type": "markdown",
   "metadata": {},
   "source": [
    "### Investigation 2.2: How Long Can You Stand It?\n",
    "\n",
    "Diekmann, Krassnig, and Lorenz (1996) conducted a field study to explore whether driver\n",
    "characteristics are related to an aggressive response (Thanks to Jeff Sklar for pointing us to this article).\n",
    "The study was conducted at a busy intersection in Munich, West Germany, on two afternoons (Sunday\n",
    "and Monday) in 1986. The experimenters sat in a Volkswaggen Jetta (the “blocking car”) and did not\n",
    "accelerate after the traffic light turned green, and timed how long before the blocked car driver reacted\n",
    "(either by honking or flashing headlights). The response time (in seconds) is our variable of interest.\n",
    "Some values were “censored” in that the researcher stopped timing before the driver actually honked.\n",
    "This can happen if there is a time limit to the observation period and “success” has not been observed\n",
    "within that time period.\n",
    "\n",
    "\n",
    "\n",
    "The data can be found in honking.txt. Use technology to create a histogram and describe the\n",
    "behavior of the data – shape, center, spread, outliers (suggest an explanation?). Then overlay a normal\n",
    "probability model. Do these data behave like a normal distribution? If not, how do they deviate from\n",
    "normality? Also examine a normal probability plot and discuss how deviations from the line correspond\n",
    "to the normal name shape you are observing. [Hint: Were the observed response times/quantiles placed\n",
    "on the vertical or the horizontal axis?]"
   ]
  },
  {
   "cell_type": "code",
   "execution_count": 50,
   "metadata": {},
   "outputs": [
    {
     "data": {
      "text/html": [
       "<div>\n",
       "<style scoped>\n",
       "    .dataframe tbody tr th:only-of-type {\n",
       "        vertical-align: middle;\n",
       "    }\n",
       "\n",
       "    .dataframe tbody tr th {\n",
       "        vertical-align: top;\n",
       "    }\n",
       "\n",
       "    .dataframe thead th {\n",
       "        text-align: right;\n",
       "    }\n",
       "</style>\n",
       "<table border=\"1\" class=\"dataframe\">\n",
       "  <thead>\n",
       "    <tr style=\"text-align: right;\">\n",
       "      <th></th>\n",
       "      <th>responsetime</th>\n",
       "    </tr>\n",
       "  </thead>\n",
       "  <tbody>\n",
       "    <tr>\n",
       "      <th>0</th>\n",
       "      <td>2.88</td>\n",
       "    </tr>\n",
       "    <tr>\n",
       "      <th>1</th>\n",
       "      <td>4.63</td>\n",
       "    </tr>\n",
       "    <tr>\n",
       "      <th>2</th>\n",
       "      <td>2.36</td>\n",
       "    </tr>\n",
       "    <tr>\n",
       "      <th>3</th>\n",
       "      <td>2.68</td>\n",
       "    </tr>\n",
       "    <tr>\n",
       "      <th>4</th>\n",
       "      <td>2.50</td>\n",
       "    </tr>\n",
       "  </tbody>\n",
       "</table>\n",
       "</div>"
      ],
      "text/plain": [
       "   responsetime\n",
       "0          2.88\n",
       "1          4.63\n",
       "2          2.36\n",
       "3          2.68\n",
       "4          2.50"
      ]
     },
     "execution_count": 50,
     "metadata": {},
     "output_type": "execute_result"
    }
   ],
   "source": [
    "# Save data URL\n",
    "url = \"http://www.rossmanchance.com/iscam2/data/honking.txt\"\n",
    "\n",
    "# Use pandas to read in the data from the URL\n",
    "honks = pd.read_csv(url, sep = \"\\s+\")\n",
    "honks.head()"
   ]
  },
  {
   "cell_type": "code",
   "execution_count": 56,
   "metadata": {},
   "outputs": [
    {
     "data": {
      "image/png": "[encoded data removed]",
      "text/plain": [
       "<Figure size 432x288 with 1 Axes>"
      ]
     },
     "metadata": {
      "needs_background": "light"
     },
     "output_type": "display_data"
    }
   ],
   "source": [
    "# Create a histogram of the response times\n",
    "plt.hist(honks.responsetime, bins = 30)\n",
    "plt.title(\"Histogram of Honk Response Times\")\n",
    "plt.show()"
   ]
  },
  {
   "cell_type": "code",
   "execution_count": 54,
   "metadata": {},
   "outputs": [
    {
     "name": "stdout",
     "output_type": "stream",
     "text": [
      "Mean response time is 4.25 and median response time is 3.24\n"
     ]
    }
   ],
   "source": [
    "# Compare mean and median response times\n",
    "print(\"Mean response time is\", round(honks.responsetime.mean(), 2), \n",
    "      \"and median response time is\", honks.responsetime.median())"
   ]
  },
  {
   "cell_type": "code",
   "execution_count": 57,
   "metadata": {},
   "outputs": [
    {
     "data": {
      "image/png": "[encoded data removed]",
      "text/plain": [
       "<Figure size 432x288 with 1 Axes>"
      ]
     },
     "metadata": {
      "needs_background": "light"
     },
     "output_type": "display_data"
    }
   ],
   "source": [
    "# Overlay normal distribution to observe fit\n",
    "\n",
    "norm_vals = norm.rvs(honks.responsetime)\n",
    "mu, sd = norm.fit(norm_vals)\n",
    "\n",
    "# Plot birthweight histogram\n",
    "plt.hist(honks.responsetime, bins = 30, density = True)\n",
    "\n",
    "# Python will require that we do a little more to help build the plot of the \n",
    "# normal distribution than R does, so we'll start by telling it what range of\n",
    "# values of X to plot over\n",
    "xmin = honks.responsetime.min()\n",
    "xmax = honks.responsetime.max()\n",
    "xrange = np.linspace(xmin, xmax, 1000)\n",
    "\n",
    "# With that, generate the normal distribution\n",
    "pdf = norm.pdf(xrange, mu, sd)\n",
    "\n",
    "# Then add the created distribution to the plot\n",
    "plt.plot(xrange, pdf, 'r')\n",
    "\n",
    "# Add a title and display the finished graph\n",
    "plt.title(\"Honk Response Time Density With Overlaid Normal Distribution\")\n",
    "plt.show()"
   ]
  },
  {
   "cell_type": "markdown",
   "metadata": {},
   "source": [
    "When the data are skewed, the median and interquartile range are often considered better numerical\n",
    "summaries of the center and variability of the distribution. When working with the median and\n",
    "interquartile range, we often report the five number summary which consists of the minimum, lower\n",
    "quartile, median, upper quartile, and maximum values.\n",
    "\n",
    "Although boxplots are a nice visual of the five-number summary, they can sometimes miss interesting\n",
    "features in a data set. In particular, shape can be more difficult to judge in a boxplot.\n",
    "\n",
    "Another application of the inter-quartile range is as a way to measure whether an observation is far from\n",
    "the bulk of the distribution."
   ]
  },
  {
   "cell_type": "code",
   "execution_count": 63,
   "metadata": {},
   "outputs": [
    {
     "data": {
      "text/plain": [
       "2.09"
      ]
     },
     "execution_count": 63,
     "metadata": {},
     "output_type": "execute_result"
    }
   ],
   "source": [
    "# Calculate IQR\n",
    "from scipy.stats import iqr\n",
    "iqr(honks.responsetime)"
   ]
  },
  {
   "cell_type": "code",
   "execution_count": 67,
   "metadata": {},
   "outputs": [
    {
     "data": {
      "text/plain": [
       "<matplotlib.axes._subplots.AxesSubplot at 0x2c069981320>"
      ]
     },
     "execution_count": 67,
     "metadata": {},
     "output_type": "execute_result"
    },
    {
     "data": {
      "image/png": "[encoded data removed]",
      "text/plain": [
       "<Figure size 432x288 with 1 Axes>"
      ]
     },
     "metadata": {
      "needs_background": "light"
     },
     "output_type": "display_data"
    }
   ],
   "source": [
    "# Create a \"modified\" boxplot of the response times with pandas (shows outliers)\n",
    "honks.boxplot(vert = False)"
   ]
  },
  {
   "cell_type": "code",
   "execution_count": 77,
   "metadata": {},
   "outputs": [
    {
     "data": {
      "text/plain": [
       "0    1.057790\n",
       "1    1.532557\n",
       "2    0.858662\n",
       "3    0.985817\n",
       "4    0.916291\n",
       "Name: responsetime, dtype: float64"
      ]
     },
     "execution_count": 77,
     "metadata": {},
     "output_type": "execute_result"
    }
   ],
   "source": [
    "# Take the log of honk response time to fit normal distribution\n",
    "lnhonks = np.log(honks.responsetime)\n",
    "lnhonks.head()"
   ]
  },
  {
   "cell_type": "code",
   "execution_count": 81,
   "metadata": {},
   "outputs": [
    {
     "data": {
      "image/png": "[encoded data removed]",
      "text/plain": [
       "<Figure size 432x288 with 1 Axes>"
      ]
     },
     "metadata": {
      "needs_background": "light"
     },
     "output_type": "display_data"
    }
   ],
   "source": [
    "# Create histogram of lnhonks\n",
    "plt.hist(lnhonks, bins = 30);"
   ]
  },
  {
   "cell_type": "code",
   "execution_count": 82,
   "metadata": {},
   "outputs": [
    {
     "data": {
      "image/png": "[encoded data removed]",
      "text/plain": [
       "<Figure size 432x288 with 1 Axes>"
      ]
     },
     "metadata": {
      "needs_background": "light"
     },
     "output_type": "display_data"
    }
   ],
   "source": [
    "# Create normal probability plot of lnhonks\n",
    "probplot(lnhonks, dist = 'norm', plot = pylab);"
   ]
  },
  {
   "cell_type": "markdown",
   "metadata": {},
   "source": [
    "These data are not well modelled by a normal distribution. So can we still make predictions? There are\n",
    "a couple of strategies. One would be to consider whether a rescaling or transformation of the data\n",
    "might create a more normal-looking distribution, allowing us to use the methods from Investigation 2.1.\n",
    "In this case, we need a transformation that will downsize the large values more than the small values.\n",
    "Log transformations are often very helpful in this regard.\n",
    "\n",
    "A **data transformation** applies a mathematical function to each value to re-express the data\n",
    "on an alternative scale. Data transformations can also make the data more closely modeled with a\n",
    "normal distribution, which could then satisfy the conditions the Central Limit Theorem and inference\n",
    "procedures based on the t-distribution.\n",
    "\n",
    "Create a new variable which is log(responsetime). (You can use either natural log or log base 10,\n",
    "but so we all do the same thing, let’s use natural log here, which is the default in most software when\n",
    "you say “log.”)"
   ]
  },
  {
   "cell_type": "code",
   "execution_count": 1,
   "metadata": {},
   "outputs": [],
   "source": [
    "# Need to add this example"
   ]
  },
  {
   "cell_type": "markdown",
   "metadata": {},
   "source": [
    "Another approach is to fit a different mathematical model to the original data. Use technology to overlay an exponential probability model (often used to model wait times) to these\n",
    "data and/or create a probability plot using the exponential distribution as the reference distribution."
   ]
  },
  {
   "cell_type": "code",
   "execution_count": 92,
   "metadata": {},
   "outputs": [
    {
     "data": {
      "image/png": "[encoded data removed]",
      "text/plain": [
       "<Figure size 432x288 with 1 Axes>"
      ]
     },
     "metadata": {
      "needs_background": "light"
     },
     "output_type": "display_data"
    }
   ],
   "source": [
    "# Overlay exponential distribution on original histogram of honk response times\n",
    "plt.hist(honks.responsetime, bins = 30, density = True);\n",
    "\n",
    "from scipy.stats import expon\n",
    "\n",
    "xmin = honks.responsetime.min()\n",
    "xmax = honks.responsetime.max()\n",
    "xrange = np.linspace(xmin, xmax, 1000)\n",
    "\n",
    "# Generate exponential PDF\n",
    "pdf = expon.pdf(xrange)\n",
    "\n",
    "# Then add the created distribution to the plot\n",
    "plt.plot(xrange, pdf, 'r')\n",
    "\n",
    "# Add a title and display the finished graph\n",
    "plt.title(\"Honk Response Time Density With Overlaid Exponential Distribution\")\n",
    "plt.show()"
   ]
  },
  {
   "cell_type": "markdown",
   "metadata": {},
   "source": [
    "Describe the behavior of the exponential distribution. Does it appear to be a reasonable fit for these\n",
    "data? Describe any deviations.\n",
    "\n",
    "Use technology to calculate the probability of a wait time under 2 seconds using the exponential\n",
    "distribution with mean 4.25 sec"
   ]
  },
  {
   "cell_type": "code",
   "execution_count": 84,
   "metadata": {
    "scrolled": true
   },
   "outputs": [
    {
     "data": {
      "image/png": "[encoded data removed]",
      "text/plain": [
       "<Figure size 432x288 with 1 Axes>"
      ]
     },
     "metadata": {
      "needs_background": "light"
     },
     "output_type": "display_data"
    }
   ],
   "source": [
    "# Create exponential probability plot for the original honk response times\n",
    "probplot(honks.responsetime, dist = 'expon', plot = pylab);"
   ]
  },
  {
   "cell_type": "code",
   "execution_count": 106,
   "metadata": {},
   "outputs": [],
   "source": [
    "# Calculate probability that wait time is less than 2 seconds with exponential distribution\n",
    "#exp_rands = np.random.exponential(scale = honks.responsetime.mean(), size = 2000);\n",
    "#lessthan2sec = exp_rands < 2\n",
    "#prob = len(lessthan2sec) / len(exp_rands)\n",
    "#print('The probability that an individual waits less than 2 seconds is about', round(prob, 4))"
   ]
  },
  {
   "cell_type": "markdown",
   "metadata": {},
   "source": [
    "There are of course, many other probability models we could look into. One limitation of\n",
    "the exponential distribution is assuming the mean and standard deviation are equal, clearly not the case\n",
    "for these data. There are other more flexible distributions (e.g., Gamma and Weibull) that use two\n",
    "parameters to characterize the distribution rather than only one."
   ]
  },
  {
   "cell_type": "code",
   "execution_count": null,
   "metadata": {},
   "outputs": [],
   "source": []
  }
 ],
 "metadata": {
  "kernelspec": {
   "display_name": "Python 3",
   "language": "python",
   "name": "python3"
  },
  "language_info": {
   "codemirror_mode": {
    "name": "ipython",
    "version": 3
   },
   "file_extension": ".py",
   "mimetype": "text/x-python",
   "name": "python",
   "nbconvert_exporter": "python",
   "pygments_lexer": "ipython3",
   "version": "3.7.1"
  }
 },
 "nbformat": 4,
 "nbformat_minor": 2
}
