{
 "cells": [
  {
   "cell_type": "markdown",
   "metadata": {},
   "source": [
    "##### This notebook covers Investigations 4.8 and 4.9 from the Chapter 4, Section 4: Matched Pairs in ISCAM III"
   ]
  },
  {
   "cell_type": "markdown",
   "metadata": {},
   "source": [
    " ### Investigation 4.8: Chip Melting Times\n",
    " \n",
    "Suppose you want to compare the melting times of semisweet chocolate chips to peanut butter chips\n",
    "using the students in your class. To melt the chips, one chip will be placed on each student’s tongue and\n",
    "then held against the roof of his or her mouth. The time until the chip is completely melted, without any\n",
    "“encouragement” by the student, will be recorded (in seconds).\n",
    " \n",
    " This investigation utilizes data collected in class of time taken for \n",
    " two types of baking chips to melt: chocolate chips and peanut butter chips.\n",
    " \n",
    " Each student melted each type of chip in their mouth and recorded their\n",
    " melting times."
   ]
  },
  {
   "cell_type": "code",
   "execution_count": 2,
   "metadata": {},
   "outputs": [
    {
     "data": {
      "text/html": [
       "<div>\n",
       "<style scoped>\n",
       "    .dataframe tbody tr th:only-of-type {\n",
       "        vertical-align: middle;\n",
       "    }\n",
       "\n",
       "    .dataframe tbody tr th {\n",
       "        vertical-align: top;\n",
       "    }\n",
       "\n",
       "    .dataframe thead th {\n",
       "        text-align: right;\n",
       "    }\n",
       "</style>\n",
       "<table border=\"1\" class=\"dataframe\">\n",
       "  <thead>\n",
       "    <tr style=\"text-align: right;\">\n",
       "      <th></th>\n",
       "      <th>choc</th>\n",
       "      <th>pb</th>\n",
       "    </tr>\n",
       "  </thead>\n",
       "  <tbody>\n",
       "    <tr>\n",
       "      <th>0</th>\n",
       "      <td>107</td>\n",
       "      <td>76</td>\n",
       "    </tr>\n",
       "    <tr>\n",
       "      <th>1</th>\n",
       "      <td>63</td>\n",
       "      <td>98</td>\n",
       "    </tr>\n",
       "    <tr>\n",
       "      <th>2</th>\n",
       "      <td>165</td>\n",
       "      <td>120</td>\n",
       "    </tr>\n",
       "    <tr>\n",
       "      <th>3</th>\n",
       "      <td>73</td>\n",
       "      <td>51</td>\n",
       "    </tr>\n",
       "    <tr>\n",
       "      <th>4</th>\n",
       "      <td>75</td>\n",
       "      <td>50</td>\n",
       "    </tr>\n",
       "  </tbody>\n",
       "</table>\n",
       "</div>"
      ],
      "text/plain": [
       "   choc   pb\n",
       "0   107   76\n",
       "1    63   98\n",
       "2   165  120\n",
       "3    73   51\n",
       "4    75   50"
      ]
     },
     "execution_count": 2,
     "metadata": {},
     "output_type": "execute_result"
    }
   ],
   "source": [
    "import pandas as pd\n",
    "\n",
    "# Save data URL\n",
    "url = \"http://www.rossmanchance.com/iscam2/data/ChipMelting.txt\"\n",
    "\n",
    "# Use pandas to read in the data from the URL\n",
    "chips = pd.read_csv(url, sep = \"\\s+\")\n",
    "chips.head()"
   ]
  },
  {
   "cell_type": "code",
   "execution_count": 3,
   "metadata": {},
   "outputs": [
    {
     "data": {
      "image/png": "[encoded data removed]",
      "text/plain": [
       "<Figure size 432x288 with 1 Axes>"
      ]
     },
     "metadata": {
      "needs_background": "light"
     },
     "output_type": "display_data"
    }
   ],
   "source": [
    "# Create histogram of melting times\n",
    "import matplotlib.pyplot as plt\n",
    "\n",
    "plt.hist(chips.choc, alpha = 0.5, bins = 20, color = 'r', ec = 'black');\n",
    "plt.hist(chips.pb, alpha = 0.5, bins = 20, color = 'g', ec = 'black');\n",
    "plt.title(\"Histogram of Chip Melting Times (Chocolate in Red, Peanut Butter in Green)\")\n",
    "plt.xlabel(\"Melting Time\")\n",
    "plt.ylabel(\"Count\")\n",
    "plt.show()\n"
   ]
  },
  {
   "cell_type": "code",
   "execution_count": 4,
   "metadata": {},
   "outputs": [
    {
     "data": {
      "text/plain": [
       "(count     20.000000\n",
       " mean      92.400000\n",
       " std       35.597753\n",
       " min       45.000000\n",
       " 25%       70.000000\n",
       " 50%       75.000000\n",
       " 75%      111.250000\n",
       " max      165.000000\n",
       " Name: choc, dtype: float64, count     20.000000\n",
       " mean      81.500000\n",
       " std       35.339705\n",
       " min       30.000000\n",
       " 25%       51.750000\n",
       " 50%       65.000000\n",
       " 75%      120.000000\n",
       " max      140.000000\n",
       " Name: pb, dtype: float64)"
      ]
     },
     "execution_count": 4,
     "metadata": {},
     "output_type": "execute_result"
    }
   ],
   "source": [
    "# Use the describe() function from pandas to summarize the data\n",
    "chips.choc.describe(), chips.pb.describe()"
   ]
  },
  {
   "cell_type": "code",
   "execution_count": 5,
   "metadata": {},
   "outputs": [
    {
     "name": "stdout",
     "output_type": "stream",
     "text": [
      "Two independent sample t-test test statistic:  0.9718 , p-value =  0.3373\n"
     ]
    }
   ],
   "source": [
    "# Conduct two-independent-sample t-test (though technically inappropriate \n",
    "# for the scenario)\n",
    "from scipy.stats import ttest_ind\n",
    "\n",
    "ttest = ttest_ind(chips.choc, chips.pb)\n",
    "print(\"Two independent sample t-test test statistic: \", \n",
    "      round(ttest.statistic, 4), \", p-value = \", round(ttest.pvalue, 4))"
   ]
  },
  {
   "cell_type": "markdown",
   "metadata": {},
   "source": [
    "When the data are paired (e.g., repeat observations on the same individual) we should not treat them as\n",
    "independent samples as you considered doing in (i) and (j). This ignores the information that two\n",
    "measurements were taken for each person (we couldn’t mix up the values in the second column without\n",
    "altering the information in the data). Instead you can analyze the differences in the times per person.\n",
    "\n",
    "Calculate the differences between the chocolate chip times and the peanut butter chip times for each\n",
    "person (chocolate – peanut butter). Examine and\n",
    "describe a dotplot and descriptive statistics for these differences. Do they support a tendency for one\n",
    "chip to melt more slowly than the other? How are you deciding?"
   ]
  },
  {
   "cell_type": "code",
   "execution_count": 6,
   "metadata": {},
   "outputs": [
    {
     "name": "stdout",
     "output_type": "stream",
     "text": [
      "Two dependent sample (matched pairs) t-test test statistic:  1.839 , p-value =  0.0816\n"
     ]
    }
   ],
   "source": [
    "# The correct way to approach this scenario is to treat each row of melting\n",
    "# times as a pair from the same individual and observe their difference\n",
    "\n",
    "# To do this, one can use scipy.stats.ttest_rel, which tests two related (non-\n",
    "# independent) samples. \n",
    "\n",
    "from scipy.stats import ttest_rel\n",
    "ttest2 = ttest_rel(chips.choc, chips.pb)\n",
    "print(\"Two dependent sample (matched pairs) t-test test statistic: \", \n",
    "      round(ttest2.statistic, 4), \", p-value = \", round(ttest2.pvalue, 4))"
   ]
  },
  {
   "cell_type": "code",
   "execution_count": null,
   "metadata": {},
   "outputs": [],
   "source": []
  }
 ],
 "metadata": {
  "kernelspec": {
   "display_name": "Python 3",
   "language": "python",
   "name": "python3"
  },
  "language_info": {
   "codemirror_mode": {
    "name": "ipython",
    "version": 3
   },
   "file_extension": ".py",
   "mimetype": "text/x-python",
   "name": "python",
   "nbconvert_exporter": "python",
   "pygments_lexer": "ipython3",
   "version": "3.7.1"
  }
 },
 "nbformat": 4,
 "nbformat_minor": 2
}
