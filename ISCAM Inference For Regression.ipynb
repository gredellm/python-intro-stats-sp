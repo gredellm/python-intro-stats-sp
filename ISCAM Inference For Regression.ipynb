{
 "cells": [
  {
   "cell_type": "markdown",
   "metadata": {},
   "source": [
    "##### This notebook covers Investigations 5.10 from the Chapter 5 Section 4: Inference For Regression in ISCAM III"
   ]
  },
  {
   "cell_type": "markdown",
   "metadata": {},
   "source": [
    "### Investigation 5.10: Running Out Of Time\n",
    "\n",
    "Many communities offer racing events for amateur runners, such as 5K (approximately 3.1 miles) races.\n",
    "At the end of the event, awards are often given out to runners with the fastest times, often to the top three\n",
    "finishers in different age groups. But does running time really change with age for amateur runners? To\n",
    "investigate this, one of the authors downloaded the race results for a local 5K race in May 2013\n",
    "(Talley5K2013.txt). Data for 248 runners included age (in years) and finish time (in minutes)."
   ]
  },
  {
   "cell_type": "code",
   "execution_count": 1,
   "metadata": {},
   "outputs": [
    {
     "data": {
      "text/html": [
       "<div>\n",
       "<style scoped>\n",
       "    .dataframe tbody tr th:only-of-type {\n",
       "        vertical-align: middle;\n",
       "    }\n",
       "\n",
       "    .dataframe tbody tr th {\n",
       "        vertical-align: top;\n",
       "    }\n",
       "\n",
       "    .dataframe thead th {\n",
       "        text-align: right;\n",
       "    }\n",
       "</style>\n",
       "<table border=\"1\" class=\"dataframe\">\n",
       "  <thead>\n",
       "    <tr style=\"text-align: right;\">\n",
       "      <th></th>\n",
       "      <th>BIB</th>\n",
       "      <th>Name</th>\n",
       "      <th>Hometown</th>\n",
       "      <th>Gender</th>\n",
       "      <th>AgeRank</th>\n",
       "      <th>GenderRank</th>\n",
       "      <th>OverallRank</th>\n",
       "      <th>Time</th>\n",
       "      <th>Age</th>\n",
       "    </tr>\n",
       "  </thead>\n",
       "  <tbody>\n",
       "    <tr>\n",
       "      <th>0</th>\n",
       "      <td>1538</td>\n",
       "      <td>Ricketts, Christian</td>\n",
       "      <td>Grover Beach, Ca</td>\n",
       "      <td>M</td>\n",
       "      <td>1</td>\n",
       "      <td>1</td>\n",
       "      <td>1</td>\n",
       "      <td>16.18</td>\n",
       "      <td>13</td>\n",
       "    </tr>\n",
       "    <tr>\n",
       "      <th>1</th>\n",
       "      <td>1581</td>\n",
       "      <td>Mccarty, Travis</td>\n",
       "      <td>Arroyo Grande, Ca</td>\n",
       "      <td>M</td>\n",
       "      <td>1</td>\n",
       "      <td>2</td>\n",
       "      <td>2</td>\n",
       "      <td>17.15</td>\n",
       "      <td>34</td>\n",
       "    </tr>\n",
       "    <tr>\n",
       "      <th>2</th>\n",
       "      <td>1679</td>\n",
       "      <td>Bounds, Julia</td>\n",
       "      <td>Redwood City, Ca</td>\n",
       "      <td>F</td>\n",
       "      <td>1</td>\n",
       "      <td>1</td>\n",
       "      <td>3</td>\n",
       "      <td>18.80</td>\n",
       "      <td>14</td>\n",
       "    </tr>\n",
       "    <tr>\n",
       "      <th>3</th>\n",
       "      <td>91506</td>\n",
       "      <td>Krichevsky, Daniel</td>\n",
       "      <td>San Luis Obispo, Ca</td>\n",
       "      <td>M</td>\n",
       "      <td>1</td>\n",
       "      <td>3</td>\n",
       "      <td>4</td>\n",
       "      <td>19.02</td>\n",
       "      <td>27</td>\n",
       "    </tr>\n",
       "    <tr>\n",
       "      <th>4</th>\n",
       "      <td>1591</td>\n",
       "      <td>Shea, Owen</td>\n",
       "      <td>Slo, Ca</td>\n",
       "      <td>M</td>\n",
       "      <td>1</td>\n",
       "      <td>4</td>\n",
       "      <td>5</td>\n",
       "      <td>19.07</td>\n",
       "      <td>49</td>\n",
       "    </tr>\n",
       "  </tbody>\n",
       "</table>\n",
       "</div>"
      ],
      "text/plain": [
       "     BIB                 Name             Hometown Gender  AgeRank  \\\n",
       "0   1538  Ricketts, Christian     Grover Beach, Ca      M        1   \n",
       "1   1581      Mccarty, Travis    Arroyo Grande, Ca      M        1   \n",
       "2   1679        Bounds, Julia     Redwood City, Ca      F        1   \n",
       "3  91506   Krichevsky, Daniel  San Luis Obispo, Ca      M        1   \n",
       "4   1591           Shea, Owen              Slo, Ca      M        1   \n",
       "\n",
       "   GenderRank  OverallRank   Time  Age  \n",
       "0           1            1  16.18   13  \n",
       "1           2            2  17.15   34  \n",
       "2           1            3  18.80   14  \n",
       "3           3            4  19.02   27  \n",
       "4           4            5  19.07   49  "
      ]
     },
     "execution_count": 1,
     "metadata": {},
     "output_type": "execute_result"
    }
   ],
   "source": [
    "import pandas as pd\n",
    "\n",
    "# Save data URL\n",
    "url = \"http://www.rossmanchance.com/iscam2/data/Talley5K2013.txt\"\n",
    "\n",
    "# Use pandas to read in the data from the URL\n",
    "runners = pd.read_csv(url, sep = \"\\s+\")\n",
    "runners.head()"
   ]
  },
  {
   "cell_type": "markdown",
   "metadata": {},
   "source": [
    "Use technology to produce a scatterplot of finish time vs. age. [You can copy the data into Excel,\n",
    "using Data > Text to Columns and delimiting by spaces, and then copy the last two columns (age, time)\n",
    "into the Analyzing Two Quantitative variables applet, using age as the explanatory variable.] Do you\n",
    "want to change any of your answers to (b) in light of this graph? Also discuss any other unusual features\n",
    "of the data."
   ]
  },
  {
   "cell_type": "code",
   "execution_count": 2,
   "metadata": {},
   "outputs": [
    {
     "data": {
      "text/plain": [
       "<Figure size 640x480 with 1 Axes>"
      ]
     },
     "metadata": {},
     "output_type": "display_data"
    }
   ],
   "source": [
    "# Produce a scatterplot of finish time and age\n",
    "import matplotlib.pyplot as plt\n",
    "plt.scatter(runners.Time, runners.Age)\n",
    "plt.title(\"Runner Finish Time vs Runner Age\")\n",
    "plt.xlabel(\"Time (Minutes)\")\n",
    "plt.ylabel(\"Age\")\n",
    "plt.show()"
   ]
  },
  {
   "cell_type": "markdown",
   "metadata": {},
   "source": [
    "Remove the outlier (the name was a duplicate and the time was later dropped from the official\n",
    "published results), and determine the least-squares regression equation for predicting finish time from\n",
    "age. Interpret the slope coefficient in context."
   ]
  },
  {
   "cell_type": "code",
   "execution_count": 3,
   "metadata": {},
   "outputs": [
    {
     "data": {
      "image/png": "[encoded data removed]",
      "text/plain": [
       "<Figure size 432x288 with 1 Axes>"
      ]
     },
     "metadata": {
      "needs_background": "light"
     },
     "output_type": "display_data"
    }
   ],
   "source": [
    "# Remove outlier from dataset\n",
    "plausible_runners = runners['Time'] < 70\n",
    "runners = runners[plausible_runners]\n",
    "plt.scatter(runners.Time, runners.Age)\n",
    "plt.title(\"Runner Finish Time vs Runner Age\")\n",
    "plt.xlabel(\"Time (Minutes)\")\n",
    "plt.ylabel(\"Age\")\n",
    "plt.show()"
   ]
  },
  {
   "cell_type": "code",
   "execution_count": 4,
   "metadata": {},
   "outputs": [
    {
     "name": "stdout",
     "output_type": "stream",
     "text": [
      "Intercept    26.960993\n",
      "Age           0.140322\n",
      "dtype: float64\n",
      "                            OLS Regression Results                            \n",
      "==============================================================================\n",
      "Dep. Variable:                   Time   R-squared:                       0.076\n",
      "Model:                            OLS   Adj. R-squared:                  0.072\n",
      "Method:                 Least Squares   F-statistic:                     20.13\n",
      "Date:                Tue, 09 Apr 2019   Prob (F-statistic):           1.11e-05\n",
      "Time:                        14:57:00   Log-Likelihood:                -871.15\n",
      "No. Observations:                 247   AIC:                             1746.\n",
      "Df Residuals:                     245   BIC:                             1753.\n",
      "Df Model:                           1                                         \n",
      "Covariance Type:            nonrobust                                         \n",
      "==============================================================================\n",
      "                 coef    std err          t      P>|t|      [0.025      0.975]\n",
      "------------------------------------------------------------------------------\n",
      "Intercept     26.9610      1.314     20.516      0.000      24.373      29.549\n",
      "Age            0.1403      0.031      4.487      0.000       0.079       0.202\n",
      "==============================================================================\n",
      "Omnibus:                       17.807   Durbin-Watson:                   0.142\n",
      "Prob(Omnibus):                  0.000   Jarque-Bera (JB):               19.889\n",
      "Skew:                           0.692   Prob(JB):                     4.80e-05\n",
      "Kurtosis:                       3.128   Cond. No.                         105.\n",
      "==============================================================================\n",
      "\n",
      "Warnings:\n",
      "[1] Standard Errors assume that the covariance matrix of the errors is correctly specified.\n"
     ]
    },
    {
     "data": {
      "text/plain": [
       "(None, None)"
      ]
     },
     "execution_count": 4,
     "metadata": {},
     "output_type": "execute_result"
    }
   ],
   "source": [
    "# Generate the ordinary least squares regression line and associated output\n",
    "import statsmodels.formula.api as sm\n",
    "reg = sm.ols(formula = \"Time ~ Age\", data = runners).fit()\n",
    "print(reg.params), print(reg.summary())\n",
    "\n",
    "# incredible!"
   ]
  },
  {
   "cell_type": "code",
   "execution_count": 36,
   "metadata": {},
   "outputs": [
    {
     "data": {
      "image/png": "[encoded data removed]",
      "text/plain": [
       "<Figure size 432x288 with 1 Axes>"
      ]
     },
     "metadata": {
      "needs_background": "light"
     },
     "output_type": "display_data"
    }
   ],
   "source": [
    "x = numpy.linspace(10, 70, 500)\n",
    "y = (reg.params[1]*x) + reg.params[0]\n",
    "plt.scatter(runners.Time, runners.Age)\n",
    "plt.plot(x, y, 'r')\n",
    "plt.title(\"Runner Finish Time vs Runner Age\")\n",
    "plt.xlabel(\"Time (Minutes)\")\n",
    "plt.ylabel(\"Age\")\n",
    "plt.show()"
   ]
  },
  {
   "cell_type": "markdown",
   "metadata": {},
   "source": [
    "### Randomization Example (ISCAM p. 376)\n",
    "Page 376 of ISCAM walks students through an applet-based example where a null population is simulated (one in which the fitted regression line has a slope of zero). Here we'll mimic that simulation process and compare it to our observed data in Python."
   ]
  },
  {
   "cell_type": "code",
   "execution_count": 22,
   "metadata": {},
   "outputs": [
    {
     "data": {
      "text/html": [
       "<div>\n",
       "<style scoped>\n",
       "    .dataframe tbody tr th:only-of-type {\n",
       "        vertical-align: middle;\n",
       "    }\n",
       "\n",
       "    .dataframe tbody tr th {\n",
       "        vertical-align: top;\n",
       "    }\n",
       "\n",
       "    .dataframe thead th {\n",
       "        text-align: right;\n",
       "    }\n",
       "</style>\n",
       "<table border=\"1\" class=\"dataframe\">\n",
       "  <thead>\n",
       "    <tr style=\"text-align: right;\">\n",
       "      <th></th>\n",
       "      <th>Time</th>\n",
       "      <th>Age</th>\n",
       "    </tr>\n",
       "  </thead>\n",
       "  <tbody>\n",
       "    <tr>\n",
       "      <th>0</th>\n",
       "      <td>34.981662</td>\n",
       "      <td>31.416882</td>\n",
       "    </tr>\n",
       "    <tr>\n",
       "      <th>1</th>\n",
       "      <td>41.612059</td>\n",
       "      <td>44.147957</td>\n",
       "    </tr>\n",
       "    <tr>\n",
       "      <th>2</th>\n",
       "      <td>29.070662</td>\n",
       "      <td>29.682816</td>\n",
       "    </tr>\n",
       "    <tr>\n",
       "      <th>3</th>\n",
       "      <td>8.487180</td>\n",
       "      <td>88.919618</td>\n",
       "    </tr>\n",
       "    <tr>\n",
       "      <th>4</th>\n",
       "      <td>32.090524</td>\n",
       "      <td>26.101147</td>\n",
       "    </tr>\n",
       "  </tbody>\n",
       "</table>\n",
       "</div>"
      ],
      "text/plain": [
       "        Time        Age\n",
       "0  34.981662  31.416882\n",
       "1  41.612059  44.147957\n",
       "2  29.070662  29.682816\n",
       "3   8.487180  88.919618\n",
       "4  32.090524  26.101147"
      ]
     },
     "execution_count": 22,
     "metadata": {},
     "output_type": "execute_result"
    }
   ],
   "source": [
    "import numpy\n",
    "# Set the population intercept to be equal to the mean of the time variable, 32.36. Because we are forcing the slope \n",
    "# coefficient beta_1 = 0, this says that the population regression line is constant at y_bar = 32.36 minutes.\n",
    "beta_1 = 0\n",
    "beta_0 = round(numpy.mean(runners.Time), 3)\n",
    "\n",
    "# Set the x mean and x standard deviation to match the values for age after removing the outlier\n",
    "x_mean = round(numpy.mean(runners.Age), 3)\n",
    "x_std = round(numpy.std(runners.Age), 3)\n",
    "\n",
    "# Set the value of sigma, representing the variability about the population regression line, to equal the value of s from \n",
    "# the regression model (should be smaller than the SD(Y) you found in (g)).\n",
    "sigma = round(numpy.sqrt(reg.ssr / (len(runners.Age) - 2)), 3)\n",
    "\n",
    "# We want to simulate two sets of normally distributed values. The first set is the x set, where we simulate x values with the\n",
    "# sample mean and standard deviation for the Age variable. Then, we need to simulate y values based on sigma, the variability \n",
    "# about the regression line. The regression line has a slope of zero and is at y = time = beta_0 = 32.36.\n",
    "\n",
    "# We'll want quite a few simulated pairs of values. We'll do 20,000.\n",
    "# First, here are the y values (simulated null time values).\n",
    "nulltimes = numpy.random.normal(loc = beta_0, scale = sigma, size = 20000)\n",
    "# Then, the x values (simulated null age values).\n",
    "nullages = numpy.random.normal(loc = x_mean, scale = x_std, size = 20000)\n",
    "\n",
    "# Now, we have a simulated null dataset that we can plot and compare to observed data. Finally, pair the simulated null values\n",
    "# and confirm that they were successfully generated.\n",
    "nulldata = {'Time':nulltimes, 'Age':nullages}\n",
    "nullrunners = pd.DataFrame(nulldata)\n",
    "nullrunners.head()"
   ]
  },
  {
   "cell_type": "markdown",
   "metadata": {},
   "source": [
    "With the generated simulation of null values that share characteristics similar to our observed data, we can plot the null distribution and fit a regression line to it. We expect the fitted line to have slope of about zero, since that is our null hypothesis. "
   ]
  },
  {
   "cell_type": "code",
   "execution_count": 37,
   "metadata": {},
   "outputs": [
    {
     "data": {
      "image/png": "[encoded data removed]",
      "text/plain": [
       "<Figure size 432x288 with 1 Axes>"
      ]
     },
     "metadata": {
      "needs_background": "light"
     },
     "output_type": "display_data"
    }
   ],
   "source": [
    "# Find least squares regression line for the null data, then plot the data and add the fitted line\n",
    "nullreg = sm.ols(formula = \"Time ~ Age\", data = nullrunners).fit()\n",
    "x = numpy.linspace(0, 70, 500)\n",
    "y = (nullreg.params[1]*x) + nullreg.params[0]\n",
    "\n",
    "plt.scatter(nullrunners.Time, nullrunners.Age)\n",
    "plt.plot(x, y, 'r')\n",
    "plt.title(\"Runner Finish Time vs Runner Age Under Null Hypothesis\")\n",
    "plt.xlabel(\"Time (Minutes)\")\n",
    "plt.ylabel(\"Age\")\n",
    "plt.show()"
   ]
  },
  {
   "cell_type": "code",
   "execution_count": 39,
   "metadata": {},
   "outputs": [
    {
     "data": {
      "text/plain": [
       "Intercept    32.382398\n",
       "Age          -0.000017\n",
       "dtype: float64"
      ]
     },
     "execution_count": 39,
     "metadata": {},
     "output_type": "execute_result"
    }
   ],
   "source": [
    "# We can confirm that the slope coefficient is basically zero by calling it from the regression model.\n",
    "nullreg.params"
   ]
  },
  {
   "cell_type": "markdown",
   "metadata": {},
   "source": [
    "With this simulated null population, we can now take many samples of the same size as our observed data and observe how the slope of the fitted regression lines behave."
   ]
  },
  {
   "cell_type": "code",
   "execution_count": 43,
   "metadata": {},
   "outputs": [
    {
     "data": {
      "text/html": [
       "<div>\n",
       "<style scoped>\n",
       "    .dataframe tbody tr th:only-of-type {\n",
       "        vertical-align: middle;\n",
       "    }\n",
       "\n",
       "    .dataframe tbody tr th {\n",
       "        vertical-align: top;\n",
       "    }\n",
       "\n",
       "    .dataframe thead th {\n",
       "        text-align: right;\n",
       "    }\n",
       "</style>\n",
       "<table border=\"1\" class=\"dataframe\">\n",
       "  <thead>\n",
       "    <tr style=\"text-align: right;\">\n",
       "      <th></th>\n",
       "      <th>Time</th>\n",
       "      <th>Age</th>\n",
       "    </tr>\n",
       "  </thead>\n",
       "  <tbody>\n",
       "    <tr>\n",
       "      <th>4097</th>\n",
       "      <td>37.339489</td>\n",
       "      <td>27.369955</td>\n",
       "    </tr>\n",
       "    <tr>\n",
       "      <th>19356</th>\n",
       "      <td>31.370251</td>\n",
       "      <td>38.703794</td>\n",
       "    </tr>\n",
       "    <tr>\n",
       "      <th>5671</th>\n",
       "      <td>31.823268</td>\n",
       "      <td>54.482043</td>\n",
       "    </tr>\n",
       "    <tr>\n",
       "      <th>18246</th>\n",
       "      <td>43.580020</td>\n",
       "      <td>52.639443</td>\n",
       "    </tr>\n",
       "    <tr>\n",
       "      <th>5202</th>\n",
       "      <td>34.509309</td>\n",
       "      <td>37.461182</td>\n",
       "    </tr>\n",
       "  </tbody>\n",
       "</table>\n",
       "</div>"
      ],
      "text/plain": [
       "            Time        Age\n",
       "4097   37.339489  27.369955\n",
       "19356  31.370251  38.703794\n",
       "5671   31.823268  54.482043\n",
       "18246  43.580020  52.639443\n",
       "5202   34.509309  37.461182"
      ]
     },
     "execution_count": 43,
     "metadata": {},
     "output_type": "execute_result"
    }
   ],
   "source": [
    "# Pandas has an extraordinarily convenient sampling function that allows us to randomly choose rows from the null dataset.\n",
    "firstsample = nullrunners.sample(n = 247)\n",
    "firstsample.head()"
   ]
  },
  {
   "cell_type": "code",
   "execution_count": 46,
   "metadata": {},
   "outputs": [
    {
     "data": {
      "image/png": "[encoded data removed]",
      "text/plain": [
       "<Figure size 432x288 with 1 Axes>"
      ]
     },
     "metadata": {
      "needs_background": "light"
     },
     "output_type": "display_data"
    }
   ],
   "source": [
    "# Fit a least squares regression line for this sample and take note of the slope.\n",
    "firstsamplereg = sm.ols(formula = \"Time ~ Age\", data = firstsample).fit()\n",
    "x = numpy.linspace(0, 70, 500)\n",
    "y = (nullreg.params[1]*x) + nullreg.params[0]\n",
    "\n",
    "plt.scatter(firstsample.Time, firstsample.Age)\n",
    "plt.plot(x, y, 'r')\n",
    "plt.title(\"Runner Finish Time vs Age, Sampled From Simulated Null Population\")\n",
    "plt.xlabel(\"Time (Minutes)\")\n",
    "plt.ylabel(\"Age\")\n",
    "plt.show()"
   ]
  },
  {
   "cell_type": "code",
   "execution_count": 49,
   "metadata": {},
   "outputs": [
    {
     "data": {
      "text/plain": [
       "Intercept    31.280883\n",
       "Age           0.012991\n",
       "dtype: float64"
      ]
     },
     "execution_count": 49,
     "metadata": {},
     "output_type": "execute_result"
    }
   ],
   "source": [
    "firstsamplereg.params"
   ]
  },
  {
   "cell_type": "markdown",
   "metadata": {},
   "source": [
    "With this procedure, we can set up an iterative process that takes many samples and records their fitted slopes. We can then create a histogram of the null slope values, compare those to our observed slope, and determine how extremem our slope value would be if the null hypothesis were true."
   ]
  },
  {
   "cell_type": "code",
   "execution_count": 60,
   "metadata": {},
   "outputs": [
    {
     "data": {
      "text/html": [
       "<div>\n",
       "<style scoped>\n",
       "    .dataframe tbody tr th:only-of-type {\n",
       "        vertical-align: middle;\n",
       "    }\n",
       "\n",
       "    .dataframe tbody tr th {\n",
       "        vertical-align: top;\n",
       "    }\n",
       "\n",
       "    .dataframe thead th {\n",
       "        text-align: right;\n",
       "    }\n",
       "</style>\n",
       "<table border=\"1\" class=\"dataframe\">\n",
       "  <thead>\n",
       "    <tr style=\"text-align: right;\">\n",
       "      <th></th>\n",
       "      <th>Slopes</th>\n",
       "    </tr>\n",
       "  </thead>\n",
       "  <tbody>\n",
       "    <tr>\n",
       "      <th>0</th>\n",
       "      <td>-0.003997</td>\n",
       "    </tr>\n",
       "    <tr>\n",
       "      <th>1</th>\n",
       "      <td>0.089741</td>\n",
       "    </tr>\n",
       "    <tr>\n",
       "      <th>2</th>\n",
       "      <td>0.037553</td>\n",
       "    </tr>\n",
       "    <tr>\n",
       "      <th>3</th>\n",
       "      <td>0.015410</td>\n",
       "    </tr>\n",
       "    <tr>\n",
       "      <th>4</th>\n",
       "      <td>-0.054194</td>\n",
       "    </tr>\n",
       "  </tbody>\n",
       "</table>\n",
       "</div>"
      ],
      "text/plain": [
       "     Slopes\n",
       "0 -0.003997\n",
       "1  0.089741\n",
       "2  0.037553\n",
       "3  0.015410\n",
       "4 -0.054194"
      ]
     },
     "execution_count": 60,
     "metadata": {},
     "output_type": "execute_result"
    }
   ],
   "source": [
    "# Find 1000 sample slopes based on samples of size 247 from the generated null distribution\n",
    "slopes = []\n",
    "while len(slopes) < 1000:\n",
    "    sample = nullrunners.sample(n = 247)\n",
    "    samplereg = sm.ols(formula = \"Time ~ Age\", data = sample).fit()\n",
    "    slope = round(samplereg.params[1], 6)\n",
    "    slopes.append(slope)  \n",
    "    \n",
    "# Convert the list of slopes to a data frame\n",
    "slopes = {'Slopes':slopes}\n",
    "slopes = pd.DataFrame(slopes)\n",
    "slopes.head()"
   ]
  },
  {
   "cell_type": "code",
   "execution_count": 74,
   "metadata": {},
   "outputs": [
    {
     "data": {
      "image/png": "[encoded data removed]",
      "text/plain": [
       "<Figure size 432x288 with 1 Axes>"
      ]
     },
     "metadata": {
      "needs_background": "light"
     },
     "output_type": "display_data"
    }
   ],
   "source": [
    "# Plot a histogram of the null slopes, should be normally distributed\n",
    "slopes.hist();\n",
    "plt.axvline(reg.params[1], color = 'r')\n",
    "plt.show()"
   ]
  },
  {
   "cell_type": "code",
   "execution_count": null,
   "metadata": {},
   "outputs": [],
   "source": [
    "# Calculate a p-value for the observed slope from a fitted normal distribution\n"
   ]
  }
 ],
 "metadata": {
  "kernelspec": {
   "display_name": "Python 3",
   "language": "python",
   "name": "python3"
  },
  "language_info": {
   "codemirror_mode": {
    "name": "ipython",
    "version": 3
   },
   "file_extension": ".py",
   "mimetype": "text/x-python",
   "name": "python",
   "nbconvert_exporter": "python",
   "pygments_lexer": "ipython3",
   "version": "3.7.1"
  }
 },
 "nbformat": 4,
 "nbformat_minor": 2
}
